{
 "cells": [
  {
   "cell_type": "markdown",
   "id": "eaf29c0f",
   "metadata": {},
   "source": [
    "# Gold Price Predictions\n",
    "\n",
    "### The goal of the project is to predict gold prices using a suite of factors and linear regression techniques\n",
    "\n",
    "#### Methodology\n",
    "\n",
    "\n",
    "1) Data Exploration\n",
    "2) Feature Engineering\n",
    "3) Data Cleaning\n",
    "4) Modelling with Linear Regression methods\n",
    "5) Model evaluation\n",
    "6) Selection and conclusion\n",
    "7) Results\n",
    "\n"
   ]
  },
  {
   "cell_type": "code",
   "execution_count": 19,
   "id": "65fea4b1",
   "metadata": {},
   "outputs": [],
   "source": [
    "# Import libraries\n",
    "import pandas as pd\n",
    "import numpy as np\n",
    "# import statsmodels.api as sm\n",
    "import matplotlib.pyplot as plt\n",
    "import itertools # to generate combinations for best subsets\n",
    "import time # to time some parts of our code\n",
    "import pickle #to save models\n",
    "import statsmodels.api as sm\n",
    "from sklearn.model_selection import train_test_split\n",
    "from sklearn.preprocessing import StandardScaler\n",
    "from sklearn.linear_model import ElasticNetCV, LinearRegression, RidgeCV, LassoCV\n",
    "from sklearn.metrics import *\n",
    "from sklearn.feature_selection import SequentialFeatureSelector\n",
    "from sklearn.linear_model import *\n",
    "from pandas.plotting import scatter_matrix\n",
    "from sklearn.preprocessing import PolynomialFeatures\n",
    "import matplotlib.pyplot as plt\n",
    "import sklearn\n",
    "from sklearn.metrics import classification_report, confusion_matrix\n",
    "from sklearn.base import clone"
   ]
  },
  {
   "cell_type": "code",
   "execution_count": 2,
   "id": "adf3f3f3",
   "metadata": {},
   "outputs": [
    {
     "name": "stdout",
     "output_type": "stream",
     "text": [
      "['variable_date', 'Lead360Gold', 'Lead180Gold', 'Lead30Gold', 'Lead7Gold', 'Lag0Gold', 'Lag1Gold', 'Lag2Gold', 'Lag3Gold', 'Lag4Gold', 'Lag5Gold', 'Lag6Gold', 'Lag7Gold', 'Lag14Gold', 'Lag30Gold', 'Lag60Gold', 'Lag90Gold', 'Lag180Gold', 'Lag360Gold', 'CPIYOY', 'PCEYOY', 'CPICore', 'PCECore', 'Brent', 'WTI', 'Silver', 'CopperIndex', 'Platinum', 'GoldETF', 'GoldETFSharesOutstanding', 'CommodsIndex', 'PreciousMetalsIndex', 'IJC', 'NFP', 'Unrate', 'USRGDPGrowth', 'CCI', 'SPX', 'NDX', 'DJIA', 'Bitcoin', 'CorpSpread', 'BondIndex', 'IGIndex', 'HYIndex', 'Ruble', 'Yuan', 'Yen', 'Aussie', 'Sterling', 'Euro', 'DollarIndex', 'FedBS', 'EFFR', 'Ust3m', 'Ust2y', 'Ust5y', 'Ust10y', 'Ust30y', 'Gold60dVol', 'VIX', 'SMA50', 'SMA200', 'EMA50', 'EMA200', 'RSI14', 'BollU', 'BollM', 'BollL', 'BollW', 'BollPerc', 'Feb', 'Mar', 'Apr', 'May', 'Jun', 'Jul', 'Aug', 'Sep', 'Oct', 'Nov', 'Dec', 'DaysSince18Nov04']\n"
     ]
    }
   ],
   "source": [
    "# Step 1: Read the Excel file without headers\n",
    "df = pd.read_excel('DBA3803 Project Daily Gold Data.xlsx', header=None)\n",
    "\n",
    "# Step 2: Create a MultiIndex using the first two rows\n",
    "multi_index = pd.MultiIndex.from_tuples(list(zip(df.iloc[0], df.iloc[1]))) \n",
    "#will refer to this if we need the original column names in bloomberg\n",
    "\n",
    "new_headers = [col_tuple[0] for col_tuple in multi_index]\n",
    "new_headers[0] = 'variable_date'\n",
    "print(new_headers)\n",
    "\n",
    "# # Step 3: Assign the headers to the DataFrame columns and drop the first two rows\n",
    "df.columns = new_headers\n",
    "df = df.drop([0, 1])\n",
    "\n",
    "\n",
    "# Step 4: Make variable_date the index\n",
    "df = df.set_index(\"variable_date\")"
   ]
  },
  {
   "cell_type": "code",
   "execution_count": 3,
   "id": "b6e60bcb",
   "metadata": {},
   "outputs": [
    {
     "data": {
      "text/html": [
       "<div>\n",
       "<style scoped>\n",
       "    .dataframe tbody tr th:only-of-type {\n",
       "        vertical-align: middle;\n",
       "    }\n",
       "\n",
       "    .dataframe tbody tr th {\n",
       "        vertical-align: top;\n",
       "    }\n",
       "\n",
       "    .dataframe thead th {\n",
       "        text-align: right;\n",
       "    }\n",
       "</style>\n",
       "<table border=\"1\" class=\"dataframe\">\n",
       "  <thead>\n",
       "    <tr style=\"text-align: right;\">\n",
       "      <th></th>\n",
       "      <th>Lead360Gold</th>\n",
       "      <th>Lead180Gold</th>\n",
       "      <th>Lead30Gold</th>\n",
       "      <th>Lead7Gold</th>\n",
       "      <th>Lag0Gold</th>\n",
       "      <th>Lag1Gold</th>\n",
       "      <th>Lag2Gold</th>\n",
       "      <th>Lag3Gold</th>\n",
       "      <th>Lag4Gold</th>\n",
       "      <th>Lag5Gold</th>\n",
       "      <th>...</th>\n",
       "      <th>Apr</th>\n",
       "      <th>May</th>\n",
       "      <th>Jun</th>\n",
       "      <th>Jul</th>\n",
       "      <th>Aug</th>\n",
       "      <th>Sep</th>\n",
       "      <th>Oct</th>\n",
       "      <th>Nov</th>\n",
       "      <th>Dec</th>\n",
       "      <th>DaysSince18Nov04</th>\n",
       "    </tr>\n",
       "    <tr>\n",
       "      <th>variable_date</th>\n",
       "      <th></th>\n",
       "      <th></th>\n",
       "      <th></th>\n",
       "      <th></th>\n",
       "      <th></th>\n",
       "      <th></th>\n",
       "      <th></th>\n",
       "      <th></th>\n",
       "      <th></th>\n",
       "      <th></th>\n",
       "      <th></th>\n",
       "      <th></th>\n",
       "      <th></th>\n",
       "      <th></th>\n",
       "      <th></th>\n",
       "      <th></th>\n",
       "      <th></th>\n",
       "      <th></th>\n",
       "      <th></th>\n",
       "      <th></th>\n",
       "      <th></th>\n",
       "    </tr>\n",
       "  </thead>\n",
       "  <tbody>\n",
       "    <tr>\n",
       "      <th>2004-11-18</th>\n",
       "      <td>466.75</td>\n",
       "      <td>420.0</td>\n",
       "      <td>438.9</td>\n",
       "      <td>451.15</td>\n",
       "      <td>442.0</td>\n",
       "      <td>443.45</td>\n",
       "      <td>439.4</td>\n",
       "      <td>437.6</td>\n",
       "      <td>436.05</td>\n",
       "      <td>436.05</td>\n",
       "      <td>...</td>\n",
       "      <td>0.0</td>\n",
       "      <td>0.0</td>\n",
       "      <td>0.0</td>\n",
       "      <td>0.0</td>\n",
       "      <td>0.0</td>\n",
       "      <td>0.0</td>\n",
       "      <td>0.0</td>\n",
       "      <td>1.0</td>\n",
       "      <td>0.0</td>\n",
       "      <td>0.0</td>\n",
       "    </tr>\n",
       "    <tr>\n",
       "      <th>2004-11-19</th>\n",
       "      <td>467.5</td>\n",
       "      <td>419.75</td>\n",
       "      <td>438.9</td>\n",
       "      <td>451.0</td>\n",
       "      <td>445.6</td>\n",
       "      <td>442.0</td>\n",
       "      <td>443.45</td>\n",
       "      <td>439.4</td>\n",
       "      <td>437.6</td>\n",
       "      <td>436.05</td>\n",
       "      <td>...</td>\n",
       "      <td>0.0</td>\n",
       "      <td>0.0</td>\n",
       "      <td>0.0</td>\n",
       "      <td>0.0</td>\n",
       "      <td>0.0</td>\n",
       "      <td>0.0</td>\n",
       "      <td>0.0</td>\n",
       "      <td>1.0</td>\n",
       "      <td>0.0</td>\n",
       "      <td>1.0</td>\n",
       "    </tr>\n",
       "    <tr>\n",
       "      <th>2004-11-20</th>\n",
       "      <td>468.25</td>\n",
       "      <td>420.8</td>\n",
       "      <td>442.45</td>\n",
       "      <td>451.0</td>\n",
       "      <td>445.6</td>\n",
       "      <td>445.6</td>\n",
       "      <td>442.0</td>\n",
       "      <td>443.45</td>\n",
       "      <td>439.4</td>\n",
       "      <td>437.6</td>\n",
       "      <td>...</td>\n",
       "      <td>0.0</td>\n",
       "      <td>0.0</td>\n",
       "      <td>0.0</td>\n",
       "      <td>0.0</td>\n",
       "      <td>0.0</td>\n",
       "      <td>0.0</td>\n",
       "      <td>0.0</td>\n",
       "      <td>1.0</td>\n",
       "      <td>0.0</td>\n",
       "      <td>2.0</td>\n",
       "    </tr>\n",
       "    <tr>\n",
       "      <th>2004-11-21</th>\n",
       "      <td>475.75</td>\n",
       "      <td>418.0</td>\n",
       "      <td>440.95</td>\n",
       "      <td>451.0</td>\n",
       "      <td>445.6</td>\n",
       "      <td>445.6</td>\n",
       "      <td>445.6</td>\n",
       "      <td>442.0</td>\n",
       "      <td>443.45</td>\n",
       "      <td>439.4</td>\n",
       "      <td>...</td>\n",
       "      <td>0.0</td>\n",
       "      <td>0.0</td>\n",
       "      <td>0.0</td>\n",
       "      <td>0.0</td>\n",
       "      <td>0.0</td>\n",
       "      <td>0.0</td>\n",
       "      <td>0.0</td>\n",
       "      <td>1.0</td>\n",
       "      <td>0.0</td>\n",
       "      <td>3.0</td>\n",
       "    </tr>\n",
       "    <tr>\n",
       "      <th>2004-11-22</th>\n",
       "      <td>486.15</td>\n",
       "      <td>418.0</td>\n",
       "      <td>441.0</td>\n",
       "      <td>451.25</td>\n",
       "      <td>447.8</td>\n",
       "      <td>445.6</td>\n",
       "      <td>445.6</td>\n",
       "      <td>445.6</td>\n",
       "      <td>442.0</td>\n",
       "      <td>443.45</td>\n",
       "      <td>...</td>\n",
       "      <td>0.0</td>\n",
       "      <td>0.0</td>\n",
       "      <td>0.0</td>\n",
       "      <td>0.0</td>\n",
       "      <td>0.0</td>\n",
       "      <td>0.0</td>\n",
       "      <td>0.0</td>\n",
       "      <td>1.0</td>\n",
       "      <td>0.0</td>\n",
       "      <td>4.0</td>\n",
       "    </tr>\n",
       "    <tr>\n",
       "      <th>...</th>\n",
       "      <td>...</td>\n",
       "      <td>...</td>\n",
       "      <td>...</td>\n",
       "      <td>...</td>\n",
       "      <td>...</td>\n",
       "      <td>...</td>\n",
       "      <td>...</td>\n",
       "      <td>...</td>\n",
       "      <td>...</td>\n",
       "      <td>...</td>\n",
       "      <td>...</td>\n",
       "      <td>...</td>\n",
       "      <td>...</td>\n",
       "      <td>...</td>\n",
       "      <td>...</td>\n",
       "      <td>...</td>\n",
       "      <td>...</td>\n",
       "      <td>...</td>\n",
       "      <td>...</td>\n",
       "      <td>...</td>\n",
       "      <td>...</td>\n",
       "    </tr>\n",
       "    <tr>\n",
       "      <th>2024-03-27</th>\n",
       "      <td>NaN</td>\n",
       "      <td>NaN</td>\n",
       "      <td>NaN</td>\n",
       "      <td>NaN</td>\n",
       "      <td>2192.7</td>\n",
       "      <td>2179.8</td>\n",
       "      <td>2176.7</td>\n",
       "      <td>2171.6</td>\n",
       "      <td>2171.6</td>\n",
       "      <td>2171.6</td>\n",
       "      <td>...</td>\n",
       "      <td>0.0</td>\n",
       "      <td>0.0</td>\n",
       "      <td>0.0</td>\n",
       "      <td>0.0</td>\n",
       "      <td>0.0</td>\n",
       "      <td>0.0</td>\n",
       "      <td>0.0</td>\n",
       "      <td>0.0</td>\n",
       "      <td>0.0</td>\n",
       "      <td>7069.0</td>\n",
       "    </tr>\n",
       "    <tr>\n",
       "      <th>2024-03-28</th>\n",
       "      <td>NaN</td>\n",
       "      <td>NaN</td>\n",
       "      <td>NaN</td>\n",
       "      <td>NaN</td>\n",
       "      <td>2214.35</td>\n",
       "      <td>2192.7</td>\n",
       "      <td>2179.8</td>\n",
       "      <td>2176.7</td>\n",
       "      <td>2171.6</td>\n",
       "      <td>2171.6</td>\n",
       "      <td>...</td>\n",
       "      <td>0.0</td>\n",
       "      <td>0.0</td>\n",
       "      <td>0.0</td>\n",
       "      <td>0.0</td>\n",
       "      <td>0.0</td>\n",
       "      <td>0.0</td>\n",
       "      <td>0.0</td>\n",
       "      <td>0.0</td>\n",
       "      <td>0.0</td>\n",
       "      <td>7070.0</td>\n",
       "    </tr>\n",
       "    <tr>\n",
       "      <th>2024-03-29</th>\n",
       "      <td>NaN</td>\n",
       "      <td>NaN</td>\n",
       "      <td>NaN</td>\n",
       "      <td>NaN</td>\n",
       "      <td>2214.35</td>\n",
       "      <td>2214.35</td>\n",
       "      <td>2192.7</td>\n",
       "      <td>2179.8</td>\n",
       "      <td>2176.7</td>\n",
       "      <td>2171.6</td>\n",
       "      <td>...</td>\n",
       "      <td>0.0</td>\n",
       "      <td>0.0</td>\n",
       "      <td>0.0</td>\n",
       "      <td>0.0</td>\n",
       "      <td>0.0</td>\n",
       "      <td>0.0</td>\n",
       "      <td>0.0</td>\n",
       "      <td>0.0</td>\n",
       "      <td>0.0</td>\n",
       "      <td>7071.0</td>\n",
       "    </tr>\n",
       "    <tr>\n",
       "      <th>2024-03-30</th>\n",
       "      <td>NaN</td>\n",
       "      <td>NaN</td>\n",
       "      <td>NaN</td>\n",
       "      <td>NaN</td>\n",
       "      <td>2229.87</td>\n",
       "      <td>2214.35</td>\n",
       "      <td>2214.35</td>\n",
       "      <td>2192.7</td>\n",
       "      <td>2179.8</td>\n",
       "      <td>2176.7</td>\n",
       "      <td>...</td>\n",
       "      <td>0.0</td>\n",
       "      <td>0.0</td>\n",
       "      <td>0.0</td>\n",
       "      <td>0.0</td>\n",
       "      <td>0.0</td>\n",
       "      <td>0.0</td>\n",
       "      <td>0.0</td>\n",
       "      <td>0.0</td>\n",
       "      <td>0.0</td>\n",
       "      <td>7072.0</td>\n",
       "    </tr>\n",
       "    <tr>\n",
       "      <th>2024-03-31</th>\n",
       "      <td>NaN</td>\n",
       "      <td>NaN</td>\n",
       "      <td>NaN</td>\n",
       "      <td>NaN</td>\n",
       "      <td>2229.87</td>\n",
       "      <td>2229.87</td>\n",
       "      <td>2214.35</td>\n",
       "      <td>2214.35</td>\n",
       "      <td>2192.7</td>\n",
       "      <td>2179.8</td>\n",
       "      <td>...</td>\n",
       "      <td>0.0</td>\n",
       "      <td>0.0</td>\n",
       "      <td>0.0</td>\n",
       "      <td>0.0</td>\n",
       "      <td>0.0</td>\n",
       "      <td>0.0</td>\n",
       "      <td>0.0</td>\n",
       "      <td>0.0</td>\n",
       "      <td>0.0</td>\n",
       "      <td>7073.0</td>\n",
       "    </tr>\n",
       "  </tbody>\n",
       "</table>\n",
       "<p>7074 rows × 82 columns</p>\n",
       "</div>"
      ],
      "text/plain": [
       "              Lead360Gold Lead180Gold Lead30Gold Lead7Gold Lag0Gold Lag1Gold  \\\n",
       "variable_date                                                                  \n",
       "2004-11-18         466.75       420.0      438.9    451.15    442.0   443.45   \n",
       "2004-11-19          467.5      419.75      438.9     451.0    445.6    442.0   \n",
       "2004-11-20         468.25       420.8     442.45     451.0    445.6    445.6   \n",
       "2004-11-21         475.75       418.0     440.95     451.0    445.6    445.6   \n",
       "2004-11-22         486.15       418.0      441.0    451.25    447.8    445.6   \n",
       "...                   ...         ...        ...       ...      ...      ...   \n",
       "2024-03-27            NaN         NaN        NaN       NaN   2192.7   2179.8   \n",
       "2024-03-28            NaN         NaN        NaN       NaN  2214.35   2192.7   \n",
       "2024-03-29            NaN         NaN        NaN       NaN  2214.35  2214.35   \n",
       "2024-03-30            NaN         NaN        NaN       NaN  2229.87  2214.35   \n",
       "2024-03-31            NaN         NaN        NaN       NaN  2229.87  2229.87   \n",
       "\n",
       "              Lag2Gold Lag3Gold Lag4Gold Lag5Gold  ...  Apr  May  Jun  Jul  \\\n",
       "variable_date                                      ...                       \n",
       "2004-11-18       439.4    437.6   436.05   436.05  ...  0.0  0.0  0.0  0.0   \n",
       "2004-11-19      443.45    439.4    437.6   436.05  ...  0.0  0.0  0.0  0.0   \n",
       "2004-11-20       442.0   443.45    439.4    437.6  ...  0.0  0.0  0.0  0.0   \n",
       "2004-11-21       445.6    442.0   443.45    439.4  ...  0.0  0.0  0.0  0.0   \n",
       "2004-11-22       445.6    445.6    442.0   443.45  ...  0.0  0.0  0.0  0.0   \n",
       "...                ...      ...      ...      ...  ...  ...  ...  ...  ...   \n",
       "2024-03-27      2176.7   2171.6   2171.6   2171.6  ...  0.0  0.0  0.0  0.0   \n",
       "2024-03-28      2179.8   2176.7   2171.6   2171.6  ...  0.0  0.0  0.0  0.0   \n",
       "2024-03-29      2192.7   2179.8   2176.7   2171.6  ...  0.0  0.0  0.0  0.0   \n",
       "2024-03-30     2214.35   2192.7   2179.8   2176.7  ...  0.0  0.0  0.0  0.0   \n",
       "2024-03-31     2214.35  2214.35   2192.7   2179.8  ...  0.0  0.0  0.0  0.0   \n",
       "\n",
       "               Aug  Sep  Oct  Nov  Dec DaysSince18Nov04  \n",
       "variable_date                                            \n",
       "2004-11-18     0.0  0.0  0.0  1.0  0.0              0.0  \n",
       "2004-11-19     0.0  0.0  0.0  1.0  0.0              1.0  \n",
       "2004-11-20     0.0  0.0  0.0  1.0  0.0              2.0  \n",
       "2004-11-21     0.0  0.0  0.0  1.0  0.0              3.0  \n",
       "2004-11-22     0.0  0.0  0.0  1.0  0.0              4.0  \n",
       "...            ...  ...  ...  ...  ...              ...  \n",
       "2024-03-27     0.0  0.0  0.0  0.0  0.0           7069.0  \n",
       "2024-03-28     0.0  0.0  0.0  0.0  0.0           7070.0  \n",
       "2024-03-29     0.0  0.0  0.0  0.0  0.0           7071.0  \n",
       "2024-03-30     0.0  0.0  0.0  0.0  0.0           7072.0  \n",
       "2024-03-31     0.0  0.0  0.0  0.0  0.0           7073.0  \n",
       "\n",
       "[7074 rows x 82 columns]"
      ]
     },
     "execution_count": 3,
     "metadata": {},
     "output_type": "execute_result"
    }
   ],
   "source": [
    "df # df looks fine"
   ]
  },
  {
   "cell_type": "code",
   "execution_count": 4,
   "id": "12b58407",
   "metadata": {},
   "outputs": [
    {
     "name": "stdout",
     "output_type": "stream",
     "text": [
      "\n",
      "Shape of DataFrame (rows, columns):\n",
      "(7074, 82)\n",
      "\n",
      "Column Names:\n",
      "['Lead360Gold', 'Lead180Gold', 'Lead30Gold', 'Lead7Gold', 'Lag0Gold', 'Lag1Gold', 'Lag2Gold', 'Lag3Gold', 'Lag4Gold', 'Lag5Gold', 'Lag6Gold', 'Lag7Gold', 'Lag14Gold', 'Lag30Gold', 'Lag60Gold', 'Lag90Gold', 'Lag180Gold', 'Lag360Gold', 'CPIYOY', 'PCEYOY', 'CPICore', 'PCECore', 'Brent', 'WTI', 'Silver', 'CopperIndex', 'Platinum', 'GoldETF', 'GoldETFSharesOutstanding', 'CommodsIndex', 'PreciousMetalsIndex', 'IJC', 'NFP', 'Unrate', 'USRGDPGrowth', 'CCI', 'SPX', 'NDX', 'DJIA', 'Bitcoin', 'CorpSpread', 'BondIndex', 'IGIndex', 'HYIndex', 'Ruble', 'Yuan', 'Yen', 'Aussie', 'Sterling', 'Euro', 'DollarIndex', 'FedBS', 'EFFR', 'Ust3m', 'Ust2y', 'Ust5y', 'Ust10y', 'Ust30y', 'Gold60dVol', 'VIX', 'SMA50', 'SMA200', 'EMA50', 'EMA200', 'RSI14', 'BollU', 'BollM', 'BollL', 'BollW', 'BollPerc', 'Feb', 'Mar', 'Apr', 'May', 'Jun', 'Jul', 'Aug', 'Sep', 'Oct', 'Nov', 'Dec', 'DaysSince18Nov04']\n",
      "\n",
      "Columns with Null Values: ['Lead360Gold', 'Lead180Gold', 'Lead30Gold', 'Lead7Gold']\n",
      "\n",
      "Number of Null Values per Column:\n",
      " Lead360Gold         360\n",
      "Lead180Gold         180\n",
      "Lead30Gold           30\n",
      "Lead7Gold             7\n",
      "Lag0Gold              0\n",
      "                   ... \n",
      "Sep                   0\n",
      "Oct                   0\n",
      "Nov                   0\n",
      "Dec                   0\n",
      "DaysSince18Nov04      0\n",
      "Length: 82, dtype: int64\n",
      "\n",
      "Earliest dated and latest dated data: \n",
      "466.75\n",
      "nan\n"
     ]
    }
   ],
   "source": [
    "## Describe Data\n",
    "\n",
    "# Print the number of rows and columns\n",
    "print(\"\\nShape of DataFrame (rows, columns):\")\n",
    "print(df.shape)\n",
    "\n",
    "# Print column names\n",
    "print(\"\\nColumn Names:\")\n",
    "print(df.columns.tolist())\n",
    "\n",
    "# Check for columns with null values\n",
    "null_columns = df.isnull().any()\n",
    "print(\"\\nColumns with Null Values:\", null_columns[null_columns].index.tolist())\n",
    "\n",
    "# Alternatively, for a more detailed view of null values per column\n",
    "print(\"\\nNumber of Null Values per Column:\\n\", df.isnull().sum())\n",
    "\n",
    "# Earliest Dated data and Latest Dated data\n",
    "print(\"\\nEarliest dated and latest dated data: \")\n",
    "print(df.iloc[0][0])\n",
    "print(df.iloc[-1][0])"
   ]
  },
  {
   "cell_type": "code",
   "execution_count": 5,
   "id": "9c736fd3",
   "metadata": {},
   "outputs": [],
   "source": [
    "# Shift this to a later cell \n",
    "\n",
    "# ## Clean the data\n",
    "# # Check for null values in each column\n",
    "# null_values = df.isnull().sum()\n",
    "\n",
    "# # Filter out columns that have at least one null value to check\n",
    "# columns_with_nulls = null_values[null_values > 0]\n",
    "# print(columns_with_nulls)  # Verified that only the lead variable has null values, no issues with the df\n",
    "\n",
    "\n",
    "# # Prepare the dataset for predicting lead7gold\n",
    "# df_lead7 = df.drop(['Lead360Gold', 'Lead180Gold', 'Lead30Gold'], axis=1).dropna()\n",
    "# print(df_lead7)\n",
    "\n",
    "\n",
    "# # Prepare the dataset for predicting lead7gold\n",
    "# df_lead30 = df.drop(['Lead360Gold', 'Lead180Gold', 'Lead7Gold'], axis=1).dropna()\n",
    "# print(df_lead30)\n",
    "\n",
    "\n",
    "# # Prepare the dataset for predicting lead7gold\n",
    "# df_lead180 = df.drop(['Lead360Gold', 'Lead30Gold', 'Lead7Gold'], axis=1).dropna()\n",
    "# print(df_lead180)\n",
    "\n",
    "\n",
    "# # Prepare the dataset for predicting lead7gold\n",
    "# df_lead360 = df.drop(['Lead180Gold', 'Lead30Gold', 'Lead7Gold'], axis=1).dropna()\n",
    "# print(df_lead360)\n",
    "\n",
    "\n",
    "\n",
    "# # The end dates for all of the datasets are correct, can proceed with the code"
   ]
  },
  {
   "cell_type": "code",
   "execution_count": 6,
   "id": "049525d0",
   "metadata": {},
   "outputs": [
    {
     "data": {
      "image/png": "[encoded data removed]",
      "text/plain": [
       "<Figure size 720x432 with 1 Axes>"
      ]
     },
     "metadata": {
      "needs_background": "light"
     },
     "output_type": "display_data"
    }
   ],
   "source": [
    "## Plot Gold Price overtime\n",
    "plt.figure(figsize=(10, 6))\n",
    "plt.plot(df.index, df['Lag0Gold'], label='Current Gold Price')\n",
    "plt.title('Gold Price Over Time')\n",
    "plt.xlabel('Date')\n",
    "plt.ylabel('Price')\n",
    "plt.legend()\n",
    "plt.show()"
   ]
  },
  {
   "cell_type": "markdown",
   "id": "c5be6c8e",
   "metadata": {},
   "source": []
  },
  {
   "cell_type": "code",
   "execution_count": 7,
   "id": "ca1ec464",
   "metadata": {},
   "outputs": [],
   "source": [
    "# Not adding in square and cube terms for now\n",
    "\n",
    "# Any Feature Engineering\n",
    "## Adding new columns (cubed and squared)\n",
    "\n",
    "# # Columns which do not require squaring or cubing\n",
    "# non_exp_cols = ['variable_date','Feb', 'Mar', 'Apr', 'May', 'Jun', 'Jul', 'Aug', 'Sep', 'Oct', 'Nov', 'Dec', 'Lead7Gold', 'Lead30Gold','Lead180Gold','Lead360Gold' ]\n",
    "\n",
    "# # Create a dictionary for storing squared and cubed values\n",
    "# new_cols_dict = {}\n",
    "\n",
    "# # Iterate over each column in the DataFrame\n",
    "# for col in df.columns:\n",
    "#     # Only timestamped and encoded columns do not need to be squared\n",
    "#     if col not in non_exp_cols:\n",
    "#         # Convert the column to float and ignore if it fails\n",
    "#         df[col] = pd.to_numeric(df[col], errors='coerce')\n",
    "        \n",
    "#         # Check if the column has been successfully converted to float\n",
    "#         if df[col].dtype == 'float64':\n",
    "#             # Store squared and cubed values in the dictionary\n",
    "#             new_cols_dict[f'{col}_squared'] = df[col] ** 2\n",
    "#             new_cols_dict[f'{col}_cubed'] = df[col] ** 3\n",
    "\n",
    "            \n",
    "# # Create a new DataFrame from the dictionary of new columns\n",
    "# new_cols_df = pd.DataFrame(new_cols_dict)\n",
    "\n",
    "# # Concatenate the new columns DataFrame with the original DataFrame\n",
    "# df = pd.concat([df, new_cols_df], axis=1)\n",
    "\n",
    "# # Display the DataFrame to see the new columns\n",
    "# print(df.columns)\n",
    "# print(df.shape)\n"
   ]
  },
  {
   "cell_type": "markdown",
   "id": "35957865",
   "metadata": {},
   "source": [
    "## Preparing the evaluation dataset and the training/fitting set"
   ]
  },
  {
   "cell_type": "code",
   "execution_count": 8,
   "id": "115937a3",
   "metadata": {},
   "outputs": [
    {
     "name": "stdout",
     "output_type": "stream",
     "text": [
      "(1415, 82)\n",
      "              Lead360Gold Lead180Gold Lead30Gold Lead7Gold Lag0Gold Lag1Gold  \\\n",
      "variable_date                                                                  \n",
      "2020-05-17         1830.7      1890.9    1719.85   1733.55  1735.35  1735.35   \n",
      "2020-05-18         1821.8      1890.9    1724.35   1733.55   1734.7  1735.35   \n",
      "2020-05-19         1838.1      1890.9     1719.5   1720.25  1737.95   1734.7   \n",
      "2020-05-20         1838.1      1885.6    1734.75    1694.6   1748.3  1737.95   \n",
      "2020-05-21         1838.1     1889.05    1734.75   1717.35   1724.9   1748.3   \n",
      "\n",
      "              Lag2Gold Lag3Gold Lag4Gold Lag5Gold  ...  Apr  May  Jun  Jul  \\\n",
      "variable_date                                      ...                       \n",
      "2020-05-17     1735.35   1731.6   1708.4   1702.4  ...  0.0  1.0  0.0  0.0   \n",
      "2020-05-18     1735.35  1735.35   1731.6   1708.4  ...  0.0  1.0  0.0  0.0   \n",
      "2020-05-19     1735.35  1735.35  1735.35   1731.6  ...  0.0  1.0  0.0  0.0   \n",
      "2020-05-20      1734.7  1735.35  1735.35  1735.35  ...  0.0  1.0  0.0  0.0   \n",
      "2020-05-21     1737.95   1734.7  1735.35  1735.35  ...  0.0  1.0  0.0  0.0   \n",
      "\n",
      "               Aug  Sep  Oct  Nov  Dec DaysSince18Nov04  \n",
      "variable_date                                            \n",
      "2020-05-17     0.0  0.0  0.0  0.0  0.0           5659.0  \n",
      "2020-05-18     0.0  0.0  0.0  0.0  0.0           5660.0  \n",
      "2020-05-19     0.0  0.0  0.0  0.0  0.0           5661.0  \n",
      "2020-05-20     0.0  0.0  0.0  0.0  0.0           5662.0  \n",
      "2020-05-21     0.0  0.0  0.0  0.0  0.0           5663.0  \n",
      "\n",
      "[5 rows x 82 columns]\n",
      "              Lead360Gold Lead180Gold Lead30Gold Lead7Gold Lag0Gold Lag1Gold  \\\n",
      "variable_date                                                                  \n",
      "2024-03-27            NaN         NaN        NaN       NaN   2192.7   2179.8   \n",
      "2024-03-28            NaN         NaN        NaN       NaN  2214.35   2192.7   \n",
      "2024-03-29            NaN         NaN        NaN       NaN  2214.35  2214.35   \n",
      "2024-03-30            NaN         NaN        NaN       NaN  2229.87  2214.35   \n",
      "2024-03-31            NaN         NaN        NaN       NaN  2229.87  2229.87   \n",
      "\n",
      "              Lag2Gold Lag3Gold Lag4Gold Lag5Gold  ...  Apr  May  Jun  Jul  \\\n",
      "variable_date                                      ...                       \n",
      "2024-03-27      2176.7   2171.6   2171.6   2171.6  ...  0.0  0.0  0.0  0.0   \n",
      "2024-03-28      2179.8   2176.7   2171.6   2171.6  ...  0.0  0.0  0.0  0.0   \n",
      "2024-03-29      2192.7   2179.8   2176.7   2171.6  ...  0.0  0.0  0.0  0.0   \n",
      "2024-03-30     2214.35   2192.7   2179.8   2176.7  ...  0.0  0.0  0.0  0.0   \n",
      "2024-03-31     2214.35  2214.35   2192.7   2179.8  ...  0.0  0.0  0.0  0.0   \n",
      "\n",
      "               Aug  Sep  Oct  Nov  Dec DaysSince18Nov04  \n",
      "variable_date                                            \n",
      "2024-03-27     0.0  0.0  0.0  0.0  0.0           7069.0  \n",
      "2024-03-28     0.0  0.0  0.0  0.0  0.0           7070.0  \n",
      "2024-03-29     0.0  0.0  0.0  0.0  0.0           7071.0  \n",
      "2024-03-30     0.0  0.0  0.0  0.0  0.0           7072.0  \n",
      "2024-03-31     0.0  0.0  0.0  0.0  0.0           7073.0  \n",
      "\n",
      "[5 rows x 82 columns]\n"
     ]
    }
   ],
   "source": [
    "# Take the latest 20% of data\n",
    "\n",
    "# Calculate the starting index for the last 20% of the data\n",
    "start_index = int(len(df) * 0.8)\n",
    "\n",
    "# Create the eval DataFrame with the last 20%\n",
    "eval_df = df.iloc[start_index:]\n",
    "\n",
    "# Display the eval DataFrame\n",
    "print(eval_df.shape)\n",
    "print(eval_df.head())\n",
    "print(eval_df.tail())"
   ]
  },
  {
   "cell_type": "code",
   "execution_count": 9,
   "id": "da8b3c9d",
   "metadata": {},
   "outputs": [
    {
     "name": "stdout",
     "output_type": "stream",
     "text": [
      "(5659, 82)\n",
      "              Lead360Gold Lead180Gold Lead30Gold Lead7Gold Lag0Gold Lag1Gold  \\\n",
      "variable_date                                                                  \n",
      "2004-11-18         466.75       420.0      438.9    451.15    442.0   443.45   \n",
      "2004-11-19          467.5      419.75      438.9     451.0    445.6    442.0   \n",
      "2004-11-20         468.25       420.8     442.45     451.0    445.6    445.6   \n",
      "2004-11-21         475.75       418.0     440.95     451.0    445.6    445.6   \n",
      "2004-11-22         486.15       418.0      441.0    451.25    447.8    445.6   \n",
      "\n",
      "              Lag2Gold Lag3Gold Lag4Gold Lag5Gold  ...  Apr  May  Jun  Jul  \\\n",
      "variable_date                                      ...                       \n",
      "2004-11-18       439.4    437.6   436.05   436.05  ...  0.0  0.0  0.0  0.0   \n",
      "2004-11-19      443.45    439.4    437.6   436.05  ...  0.0  0.0  0.0  0.0   \n",
      "2004-11-20       442.0   443.45    439.4    437.6  ...  0.0  0.0  0.0  0.0   \n",
      "2004-11-21       445.6    442.0   443.45    439.4  ...  0.0  0.0  0.0  0.0   \n",
      "2004-11-22       445.6    445.6    442.0   443.45  ...  0.0  0.0  0.0  0.0   \n",
      "\n",
      "               Aug  Sep  Oct  Nov  Dec DaysSince18Nov04  \n",
      "variable_date                                            \n",
      "2004-11-18     0.0  0.0  0.0  1.0  0.0              0.0  \n",
      "2004-11-19     0.0  0.0  0.0  1.0  0.0              1.0  \n",
      "2004-11-20     0.0  0.0  0.0  1.0  0.0              2.0  \n",
      "2004-11-21     0.0  0.0  0.0  1.0  0.0              3.0  \n",
      "2004-11-22     0.0  0.0  0.0  1.0  0.0              4.0  \n",
      "\n",
      "[5 rows x 82 columns]\n",
      "              Lead360Gold Lead180Gold Lead30Gold Lead7Gold Lag0Gold Lag1Gold  \\\n",
      "variable_date                                                                  \n",
      "2020-05-12        1836.55      1940.8    1738.25   1737.95   1702.4  1702.75   \n",
      "2020-05-13        1836.55      1867.3     1733.5    1748.3   1708.4   1702.4   \n",
      "2020-05-14        1836.55      1878.7     1733.5    1724.9   1731.6   1708.4   \n",
      "2020-05-15        1840.45     1860.95     1733.5   1733.55  1735.35   1731.6   \n",
      "2020-05-16         1829.1     1874.85    1710.45   1733.55  1735.35  1735.35   \n",
      "\n",
      "              Lag2Gold Lag3Gold Lag4Gold Lag5Gold  ...  Apr  May  Jun  Jul  \\\n",
      "variable_date                                      ...                       \n",
      "2020-05-12     1704.05  1704.05  1704.05  1704.05  ...  0.0  1.0  0.0  0.0   \n",
      "2020-05-13     1702.75  1704.05  1704.05  1704.05  ...  0.0  1.0  0.0  0.0   \n",
      "2020-05-14      1702.4  1702.75  1704.05  1704.05  ...  0.0  1.0  0.0  0.0   \n",
      "2020-05-15      1708.4   1702.4  1702.75  1704.05  ...  0.0  1.0  0.0  0.0   \n",
      "2020-05-16      1731.6   1708.4   1702.4  1702.75  ...  0.0  1.0  0.0  0.0   \n",
      "\n",
      "               Aug  Sep  Oct  Nov  Dec DaysSince18Nov04  \n",
      "variable_date                                            \n",
      "2020-05-12     0.0  0.0  0.0  0.0  0.0           5654.0  \n",
      "2020-05-13     0.0  0.0  0.0  0.0  0.0           5655.0  \n",
      "2020-05-14     0.0  0.0  0.0  0.0  0.0           5656.0  \n",
      "2020-05-15     0.0  0.0  0.0  0.0  0.0           5657.0  \n",
      "2020-05-16     0.0  0.0  0.0  0.0  0.0           5658.0  \n",
      "\n",
      "[5 rows x 82 columns]\n"
     ]
    }
   ],
   "source": [
    "# Create train set with first 80%\n",
    "train_df = df.iloc[:start_index] \n",
    "print(train_df.shape)\n",
    "print(train_df.head())\n",
    "print(train_df.tail())"
   ]
  },
  {
   "cell_type": "markdown",
   "id": "075cbf3f",
   "metadata": {},
   "source": [
    "## Regression Models\n",
    "\n",
    "- Standard Model\n",
    "\n",
    "- Stepwise Feature Selection (Forward Propogation, Backward Propogation)\n",
    "\n",
    "- Elastic Net Regression"
   ]
  },
  {
   "cell_type": "code",
   "execution_count": 10,
   "id": "353079a4",
   "metadata": {},
   "outputs": [],
   "source": [
    "# # Data Preparation\n",
    "y_lead7 = train_df.Lead7Gold\n",
    "y_lead30 = train_df.Lead30Gold\n",
    "y_lead180 = train_df.Lead180Gold\n",
    "y_lead360 = train_df.Lead360Gold\n",
    "to_drop = ['Lead7Gold', 'Lead30Gold','Lead180Gold','Lead360Gold']\n",
    "train_X = train_df.drop(to_drop, axis = 1)\n",
    "\n",
    "# Standardize \n",
    "ss = StandardScaler()\n",
    "train_X_scaled = ss.fit_transform(train_X)\n",
    "train_X_scaled = pd.DataFrame(train_X_scaled, columns=train_X.columns, index=train_df.index)\n",
    "\n",
    "## Evaluation Data Prep\n",
    "# y data\n",
    "eval_y_lead7 = eval_df.Lead7Gold.dropna()\n",
    "eval_y_lead30 = eval_df.Lead30Gold.dropna()\n",
    "eval_y_lead180 = eval_df.Lead180Gold.dropna()\n",
    "eval_y_lead360 = eval_df.Lead360Gold.dropna()\n",
    "\n",
    "# X data\n",
    "eval_X = eval_df.drop(to_drop, axis = 1)\n",
    "eval_X_scaled = ss.fit_transform(eval_X)\n",
    "eval_X_scaled = pd.DataFrame(eval_X_scaled, columns=eval_X.columns, index=eval_X.index).dropna()\n",
    "\n",
    "eval_X_scaled_lead7 = eval_X_scaled.iloc[:-7]\n",
    "eval_X_scaled_lead30 = eval_X_scaled.iloc[:-30]\n",
    "eval_X_scaled_lead180 = eval_X_scaled.iloc[:-180]\n",
    "eval_X_scaled_lead360 = eval_X_scaled.iloc[:-360]\n",
    "\n",
    "\n",
    "# # Split into test/train (## Actually may not need to split X into 4, is the same X)\n",
    "X_train_lead7, X_test_lead7, y_train_lead7, y_test_lead7 = train_test_split(train_X_scaled, y_lead7, test_size = 0.20, random_state = 0)\n",
    "X_train_lead30, X_test_lead30, y_train_lead30, y_test_lead30 = train_test_split(train_X_scaled, y_lead30, test_size = 0.20, random_state = 0)\n",
    "X_train_lead180, X_test_lead180, y_train_lead180, y_test_lead180 = train_test_split(train_X_scaled, y_lead180, test_size = 0.20, random_state = 0)\n",
    "X_train_lead360, X_test_lead360, y_train_lead360, y_test_lead360 = train_test_split(train_X_scaled, y_lead360, test_size = 0.20, random_state = 0)\n"
   ]
  },
  {
   "cell_type": "markdown",
   "id": "4a478f9f",
   "metadata": {},
   "source": [
    "# Helper Functions\n",
    "- First function trains model on all the training data (in the datasets dictionary later on) after specifying model name\n",
    "- Second function shows the most important features of the model\n",
    "- Third function generates the predictions for the evaluation set, as well as performance statistics for it"
   ]
  },
  {
   "cell_type": "markdown",
   "id": "2e2bfa28",
   "metadata": {},
   "source": [
    "### We have 4 output variables which we would like to predict:\n",
    "- Lead 7 (days)\n",
    "- Lead 30\n",
    "- Lead 180\n",
    "- Lead 360 \n",
    "gold data. For each, we will run model fitting and determine suitability."
   ]
  },
  {
   "cell_type": "code",
   "execution_count": 11,
   "id": "541cc87b",
   "metadata": {},
   "outputs": [
    {
     "data": {
      "text/plain": [
       "variable_date\n",
       "2015-07-07     1157.4\n",
       "2018-02-13    1339.85\n",
       "2014-03-13     1327.0\n",
       "2011-05-28     1540.0\n",
       "2007-10-21     779.15\n",
       "               ...   \n",
       "2018-05-20     1303.5\n",
       "2013-10-26    1306.75\n",
       "2009-05-29      962.0\n",
       "2012-01-08     1635.5\n",
       "2012-05-12     1589.5\n",
       "Name: Lead7Gold, Length: 4527, dtype: object"
      ]
     },
     "execution_count": 11,
     "metadata": {},
     "output_type": "execute_result"
    }
   ],
   "source": [
    "y_train_lead7"
   ]
  },
  {
   "cell_type": "code",
   "execution_count": 12,
   "id": "a711c2b2",
   "metadata": {},
   "outputs": [
    {
     "data": {
      "text/plain": [
       "variable_date\n",
       "2015-07-07    1089.75\n",
       "2018-02-13    1318.75\n",
       "2014-03-13     1318.0\n",
       "2011-05-28     1498.0\n",
       "2007-10-21      795.5\n",
       "               ...   \n",
       "2018-05-20    1276.15\n",
       "2013-10-26     1243.0\n",
       "2009-05-29      942.0\n",
       "2012-01-08     1724.0\n",
       "2012-05-12     1584.0\n",
       "Name: Lead30Gold, Length: 4527, dtype: object"
      ]
     },
     "execution_count": 12,
     "metadata": {},
     "output_type": "execute_result"
    }
   ],
   "source": [
    "y_train_lead30"
   ]
  },
  {
   "cell_type": "code",
   "execution_count": 20,
   "id": "ef9993ab",
   "metadata": {},
   "outputs": [],
   "source": [
    "# Initialize a dictionary to store training data: the train_models_on_all_data() function will make use of this dictionary to \n",
    "# run the model and predict our 4 target variables \n",
    "datasets = {\n",
    "    'lead7': (X_train_lead7, X_test_lead7, y_train_lead7, y_test_lead7),\n",
    "    'lead30': (X_train_lead30, X_test_lead30, y_train_lead30, y_test_lead30),\n",
    "    'lead180': (X_train_lead180, X_test_lead180, y_train_lead180, y_test_lead180),\n",
    "    'lead360': (X_train_lead360, X_test_lead360, y_train_lead360, y_test_lead360)\n",
    "}\n",
    "\n",
    "\n",
    "def train_models_on_all_data(dataset_object, model_algorithm, model_algorithm_name):\n",
    "  model_results = {\n",
    "      \"algorithm_name\": model_algorithm_name\n",
    "  }\n",
    "  for lead_time, (X_train, X_test, y_train, y_test) in dataset_object.items():\n",
    "    print(f\"Fitting {model_algorithm_name} model for: {lead_time}\")\n",
    "\n",
    "    # Clone the model to ensure a new instance for each dataset\n",
    "    model = clone(model_algorithm)\n",
    "\n",
    "    # Fit the model on the train data\n",
    "    model.fit(X_train, y_train)\n",
    "    \n",
    "    # Make predictions on the test data\n",
    "    y_pred = model.predict(X_test)\n",
    "    \n",
    "    # Calculate metrics\n",
    "    mse = mean_squared_error(y_test, y_pred)\n",
    "    r2 = r2_score(y_test, y_pred)\n",
    "    \n",
    "    # Calculate the number of observations and predictors\n",
    "    n = X_train.shape[0]  # number of observations\n",
    "    p = X_train.shape[1]  # number of predictors\n",
    "\n",
    "    # Calculate adjusted R-squared\n",
    "    adjusted_r2 = 1 - ((1 - r2) * (n - 1) / (n - p - 1))\n",
    "    \n",
    "    # Store results\n",
    "    model_results[lead_time] = {'MSE': mse, 'R^2': r2, 'Adjusted R^2': adjusted_r2}\n",
    "    model_results[model_algorithm_name + '_' + lead_time] = model\n",
    "    \n",
    "    # Print results for this dataset\n",
    "    print(f\"{model_algorithm_name} Results for {lead_time} - MSE: {mse}, R^2: {r2}, Adjusted R^2: {adjusted_r2}\\n\")\n",
    "\n",
    "  return model_results"
   ]
  },
  {
   "cell_type": "code",
   "execution_count": 21,
   "id": "af3b493a",
   "metadata": {},
   "outputs": [],
   "source": [
    "# This function plots the most important features of the model\n",
    "\n",
    "def show_feature_impt_plot(model, X_train, model_name, top_K_features):\n",
    "  # Get coefficients and sort them by their absolute values, but preserve signs\n",
    "    coefficients = model.coef_\n",
    "    \n",
    "    # Sort indices by the absolute values of the coefficients, preserving the sign\n",
    "    sorted_indices = np.argsort(np.abs(coefficients))[::-1][:top_K_features]  # Top top_K_features indices sorted by absolute value\n",
    "\n",
    "    # Extracting top top_K_features feature names and their corresponding coefficients\n",
    "    top_features = X_train.columns[sorted_indices]\n",
    "    top_coefficients = coefficients[sorted_indices]\n",
    "\n",
    "    # Plotting\n",
    "    plt.figure(figsize=(10, 8))\n",
    "    plt.barh(range(top_K_features), top_coefficients[::-1], align='center')  # Reverse order to have the largest at the top\n",
    "    plt.yticks(range(top_K_features), top_features[::-1])\n",
    "    plt.xlabel('Coefficient Value')\n",
    "    plt.ylabel('Feature')\n",
    "    plt.title(f'Top {top_K_features} Feature Importances for {model_name}')\n",
    "    plt.show()\n",
    "\n",
    "    return top_features"
   ]
  },
  {
   "cell_type": "code",
   "execution_count": 22,
   "id": "1243a324",
   "metadata": {},
   "outputs": [],
   "source": [
    "# Initialize a dictionary to store eval set data: the final_pred() function will make predictions for the eval set\n",
    "\n",
    "final_dataset = {\n",
    "  'lead7' : (eval_X_scaled, eval_y_lead7),\n",
    "  'lead30' : (eval_X_scaled, eval_y_lead30),\n",
    "  'lead180' : (eval_X_scaled, eval_y_lead180),\n",
    "  'lead360' : (eval_X_scaled, eval_y_lead360),\n",
    "}\n",
    "\n",
    "def final_pred(dataset, target_model):\n",
    "  X_final = dataset[0]\n",
    "  y_test = dataset[1]\n",
    "  y_pred = target_model.predict(X_final)\n",
    "\n",
    "  # Calculate metrics\n",
    "  mse = mean_squared_error(y_test, y_pred)\n",
    "  r2 = r2_score(y_test, y_pred)\n",
    "  \n",
    "  # Calculate the number of observations and predictors\n",
    "  n = X_final.shape[0]  # number of observations\n",
    "  p = X_final.shape[1]  # number of predictors\n",
    "\n",
    "  # Calculate adjusted R-squared\n",
    "  adjusted_r2 = 1 - ((1 - r2) * (n - 1) / (n - p - 1))\n",
    "  \n",
    "  # Store results\n",
    "  return {'MSE': mse, 'R^2': r2, 'Adjusted R^2': adjusted_r2, 'y_predictions' : y_pred}\n"
   ]
  },
  {
   "cell_type": "markdown",
   "id": "fd78369f",
   "metadata": {},
   "source": []
  },
  {
   "cell_type": "code",
   "execution_count": null,
   "id": "4d87ed44",
   "metadata": {},
   "outputs": [],
   "source": []
  },
  {
   "cell_type": "markdown",
   "id": "c4823831",
   "metadata": {},
   "source": [
    "### Model 1: Standard Regression with No Regularisation"
   ]
  },
  {
   "cell_type": "markdown",
   "id": "0f31253f",
   "metadata": {},
   "source": [
    "Step 1: Train the model "
   ]
  },
  {
   "cell_type": "code",
   "execution_count": 23,
   "id": "9d178749",
   "metadata": {
    "scrolled": true
   },
   "outputs": [
    {
     "name": "stdout",
     "output_type": "stream",
     "text": [
      "Fitting standard_linear_reg model for: lead7\n",
      "standard_linear_reg Results for lead7 - MSE: 657.4891044508132, R^2: 0.9947085330121577, Adjusted R^2: 0.9946157419993313\n",
      "\n",
      "Fitting standard_linear_reg model for: lead30\n",
      "standard_linear_reg Results for lead30 - MSE: 1793.0628449659475, R^2: 0.9856976174930151, Adjusted R^2: 0.9854468113249519\n",
      "\n",
      "Fitting standard_linear_reg model for: lead180\n",
      "standard_linear_reg Results for lead180 - MSE: 3038.3597002307038, R^2: 0.975553610595404, Adjusted R^2: 0.9751249194142982\n",
      "\n",
      "Fitting standard_linear_reg model for: lead360\n",
      "standard_linear_reg Results for lead360 - MSE: 3848.132728794996, R^2: 0.9665338349559407, Adjusted R^2: 0.9659469732487832\n",
      "\n"
     ]
    }
   ],
   "source": [
    "standard_model_results = train_models_on_all_data(datasets, LinearRegression(), \"standard_linear_reg\")"
   ]
  },
  {
   "cell_type": "code",
   "execution_count": 24,
   "id": "8b2d8931",
   "metadata": {},
   "outputs": [
    {
     "data": {
      "text/html": [
       "<style>#sk-container-id-1 {\n",
       "  /* Definition of color scheme common for light and dark mode */\n",
       "  --sklearn-color-text: black;\n",
       "  --sklearn-color-line: gray;\n",
       "  /* Definition of color scheme for unfitted estimators */\n",
       "  --sklearn-color-unfitted-level-0: #fff5e6;\n",
       "  --sklearn-color-unfitted-level-1: #f6e4d2;\n",
       "  --sklearn-color-unfitted-level-2: #ffe0b3;\n",
       "  --sklearn-color-unfitted-level-3: chocolate;\n",
       "  /* Definition of color scheme for fitted estimators */\n",
       "  --sklearn-color-fitted-level-0: #f0f8ff;\n",
       "  --sklearn-color-fitted-level-1: #d4ebff;\n",
       "  --sklearn-color-fitted-level-2: #b3dbfd;\n",
       "  --sklearn-color-fitted-level-3: cornflowerblue;\n",
       "\n",
       "  /* Specific color for light theme */\n",
       "  --sklearn-color-text-on-default-background: var(--sg-text-color, var(--theme-code-foreground, var(--jp-content-font-color1, black)));\n",
       "  --sklearn-color-background: var(--sg-background-color, var(--theme-background, var(--jp-layout-color0, white)));\n",
       "  --sklearn-color-border-box: var(--sg-text-color, var(--theme-code-foreground, var(--jp-content-font-color1, black)));\n",
       "  --sklearn-color-icon: #696969;\n",
       "\n",
       "  @media (prefers-color-scheme: dark) {\n",
       "    /* Redefinition of color scheme for dark theme */\n",
       "    --sklearn-color-text-on-default-background: var(--sg-text-color, var(--theme-code-foreground, var(--jp-content-font-color1, white)));\n",
       "    --sklearn-color-background: var(--sg-background-color, var(--theme-background, var(--jp-layout-color0, #111)));\n",
       "    --sklearn-color-border-box: var(--sg-text-color, var(--theme-code-foreground, var(--jp-content-font-color1, white)));\n",
       "    --sklearn-color-icon: #878787;\n",
       "  }\n",
       "}\n",
       "\n",
       "#sk-container-id-1 {\n",
       "  color: var(--sklearn-color-text);\n",
       "}\n",
       "\n",
       "#sk-container-id-1 pre {\n",
       "  padding: 0;\n",
       "}\n",
       "\n",
       "#sk-container-id-1 input.sk-hidden--visually {\n",
       "  border: 0;\n",
       "  clip: rect(1px 1px 1px 1px);\n",
       "  clip: rect(1px, 1px, 1px, 1px);\n",
       "  height: 1px;\n",
       "  margin: -1px;\n",
       "  overflow: hidden;\n",
       "  padding: 0;\n",
       "  position: absolute;\n",
       "  width: 1px;\n",
       "}\n",
       "\n",
       "#sk-container-id-1 div.sk-dashed-wrapped {\n",
       "  border: 1px dashed var(--sklearn-color-line);\n",
       "  margin: 0 0.4em 0.5em 0.4em;\n",
       "  box-sizing: border-box;\n",
       "  padding-bottom: 0.4em;\n",
       "  background-color: var(--sklearn-color-background);\n",
       "}\n",
       "\n",
       "#sk-container-id-1 div.sk-container {\n",
       "  /* jupyter's `normalize.less` sets `[hidden] { display: none; }`\n",
       "     but bootstrap.min.css set `[hidden] { display: none !important; }`\n",
       "     so we also need the `!important` here to be able to override the\n",
       "     default hidden behavior on the sphinx rendered scikit-learn.org.\n",
       "     See: https://github.com/scikit-learn/scikit-learn/issues/21755 */\n",
       "  display: inline-block !important;\n",
       "  position: relative;\n",
       "}\n",
       "\n",
       "#sk-container-id-1 div.sk-text-repr-fallback {\n",
       "  display: none;\n",
       "}\n",
       "\n",
       "div.sk-parallel-item,\n",
       "div.sk-serial,\n",
       "div.sk-item {\n",
       "  /* draw centered vertical line to link estimators */\n",
       "  background-image: linear-gradient(var(--sklearn-color-text-on-default-background), var(--sklearn-color-text-on-default-background));\n",
       "  background-size: 2px 100%;\n",
       "  background-repeat: no-repeat;\n",
       "  background-position: center center;\n",
       "}\n",
       "\n",
       "/* Parallel-specific style estimator block */\n",
       "\n",
       "#sk-container-id-1 div.sk-parallel-item::after {\n",
       "  content: \"\";\n",
       "  width: 100%;\n",
       "  border-bottom: 2px solid var(--sklearn-color-text-on-default-background);\n",
       "  flex-grow: 1;\n",
       "}\n",
       "\n",
       "#sk-container-id-1 div.sk-parallel {\n",
       "  display: flex;\n",
       "  align-items: stretch;\n",
       "  justify-content: center;\n",
       "  background-color: var(--sklearn-color-background);\n",
       "  position: relative;\n",
       "}\n",
       "\n",
       "#sk-container-id-1 div.sk-parallel-item {\n",
       "  display: flex;\n",
       "  flex-direction: column;\n",
       "}\n",
       "\n",
       "#sk-container-id-1 div.sk-parallel-item:first-child::after {\n",
       "  align-self: flex-end;\n",
       "  width: 50%;\n",
       "}\n",
       "\n",
       "#sk-container-id-1 div.sk-parallel-item:last-child::after {\n",
       "  align-self: flex-start;\n",
       "  width: 50%;\n",
       "}\n",
       "\n",
       "#sk-container-id-1 div.sk-parallel-item:only-child::after {\n",
       "  width: 0;\n",
       "}\n",
       "\n",
       "/* Serial-specific style estimator block */\n",
       "\n",
       "#sk-container-id-1 div.sk-serial {\n",
       "  display: flex;\n",
       "  flex-direction: column;\n",
       "  align-items: center;\n",
       "  background-color: var(--sklearn-color-background);\n",
       "  padding-right: 1em;\n",
       "  padding-left: 1em;\n",
       "}\n",
       "\n",
       "\n",
       "/* Toggleable style: style used for estimator/Pipeline/ColumnTransformer box that is\n",
       "clickable and can be expanded/collapsed.\n",
       "- Pipeline and ColumnTransformer use this feature and define the default style\n",
       "- Estimators will overwrite some part of the style using the `sk-estimator` class\n",
       "*/\n",
       "\n",
       "/* Pipeline and ColumnTransformer style (default) */\n",
       "\n",
       "#sk-container-id-1 div.sk-toggleable {\n",
       "  /* Default theme specific background. It is overwritten whether we have a\n",
       "  specific estimator or a Pipeline/ColumnTransformer */\n",
       "  background-color: var(--sklearn-color-background);\n",
       "}\n",
       "\n",
       "/* Toggleable label */\n",
       "#sk-container-id-1 label.sk-toggleable__label {\n",
       "  cursor: pointer;\n",
       "  display: block;\n",
       "  width: 100%;\n",
       "  margin-bottom: 0;\n",
       "  padding: 0.5em;\n",
       "  box-sizing: border-box;\n",
       "  text-align: center;\n",
       "}\n",
       "\n",
       "#sk-container-id-1 label.sk-toggleable__label-arrow:before {\n",
       "  /* Arrow on the left of the label */\n",
       "  content: \"▸\";\n",
       "  float: left;\n",
       "  margin-right: 0.25em;\n",
       "  color: var(--sklearn-color-icon);\n",
       "}\n",
       "\n",
       "#sk-container-id-1 label.sk-toggleable__label-arrow:hover:before {\n",
       "  color: var(--sklearn-color-text);\n",
       "}\n",
       "\n",
       "/* Toggleable content - dropdown */\n",
       "\n",
       "#sk-container-id-1 div.sk-toggleable__content {\n",
       "  max-height: 0;\n",
       "  max-width: 0;\n",
       "  overflow: hidden;\n",
       "  text-align: left;\n",
       "  /* unfitted */\n",
       "  background-color: var(--sklearn-color-unfitted-level-0);\n",
       "}\n",
       "\n",
       "#sk-container-id-1 div.sk-toggleable__content.fitted {\n",
       "  /* fitted */\n",
       "  background-color: var(--sklearn-color-fitted-level-0);\n",
       "}\n",
       "\n",
       "#sk-container-id-1 div.sk-toggleable__content pre {\n",
       "  margin: 0.2em;\n",
       "  border-radius: 0.25em;\n",
       "  color: var(--sklearn-color-text);\n",
       "  /* unfitted */\n",
       "  background-color: var(--sklearn-color-unfitted-level-0);\n",
       "}\n",
       "\n",
       "#sk-container-id-1 div.sk-toggleable__content.fitted pre {\n",
       "  /* unfitted */\n",
       "  background-color: var(--sklearn-color-fitted-level-0);\n",
       "}\n",
       "\n",
       "#sk-container-id-1 input.sk-toggleable__control:checked~div.sk-toggleable__content {\n",
       "  /* Expand drop-down */\n",
       "  max-height: 200px;\n",
       "  max-width: 100%;\n",
       "  overflow: auto;\n",
       "}\n",
       "\n",
       "#sk-container-id-1 input.sk-toggleable__control:checked~label.sk-toggleable__label-arrow:before {\n",
       "  content: \"▾\";\n",
       "}\n",
       "\n",
       "/* Pipeline/ColumnTransformer-specific style */\n",
       "\n",
       "#sk-container-id-1 div.sk-label input.sk-toggleable__control:checked~label.sk-toggleable__label {\n",
       "  color: var(--sklearn-color-text);\n",
       "  background-color: var(--sklearn-color-unfitted-level-2);\n",
       "}\n",
       "\n",
       "#sk-container-id-1 div.sk-label.fitted input.sk-toggleable__control:checked~label.sk-toggleable__label {\n",
       "  background-color: var(--sklearn-color-fitted-level-2);\n",
       "}\n",
       "\n",
       "/* Estimator-specific style */\n",
       "\n",
       "/* Colorize estimator box */\n",
       "#sk-container-id-1 div.sk-estimator input.sk-toggleable__control:checked~label.sk-toggleable__label {\n",
       "  /* unfitted */\n",
       "  background-color: var(--sklearn-color-unfitted-level-2);\n",
       "}\n",
       "\n",
       "#sk-container-id-1 div.sk-estimator.fitted input.sk-toggleable__control:checked~label.sk-toggleable__label {\n",
       "  /* fitted */\n",
       "  background-color: var(--sklearn-color-fitted-level-2);\n",
       "}\n",
       "\n",
       "#sk-container-id-1 div.sk-label label.sk-toggleable__label,\n",
       "#sk-container-id-1 div.sk-label label {\n",
       "  /* The background is the default theme color */\n",
       "  color: var(--sklearn-color-text-on-default-background);\n",
       "}\n",
       "\n",
       "/* On hover, darken the color of the background */\n",
       "#sk-container-id-1 div.sk-label:hover label.sk-toggleable__label {\n",
       "  color: var(--sklearn-color-text);\n",
       "  background-color: var(--sklearn-color-unfitted-level-2);\n",
       "}\n",
       "\n",
       "/* Label box, darken color on hover, fitted */\n",
       "#sk-container-id-1 div.sk-label.fitted:hover label.sk-toggleable__label.fitted {\n",
       "  color: var(--sklearn-color-text);\n",
       "  background-color: var(--sklearn-color-fitted-level-2);\n",
       "}\n",
       "\n",
       "/* Estimator label */\n",
       "\n",
       "#sk-container-id-1 div.sk-label label {\n",
       "  font-family: monospace;\n",
       "  font-weight: bold;\n",
       "  display: inline-block;\n",
       "  line-height: 1.2em;\n",
       "}\n",
       "\n",
       "#sk-container-id-1 div.sk-label-container {\n",
       "  text-align: center;\n",
       "}\n",
       "\n",
       "/* Estimator-specific */\n",
       "#sk-container-id-1 div.sk-estimator {\n",
       "  font-family: monospace;\n",
       "  border: 1px dotted var(--sklearn-color-border-box);\n",
       "  border-radius: 0.25em;\n",
       "  box-sizing: border-box;\n",
       "  margin-bottom: 0.5em;\n",
       "  /* unfitted */\n",
       "  background-color: var(--sklearn-color-unfitted-level-0);\n",
       "}\n",
       "\n",
       "#sk-container-id-1 div.sk-estimator.fitted {\n",
       "  /* fitted */\n",
       "  background-color: var(--sklearn-color-fitted-level-0);\n",
       "}\n",
       "\n",
       "/* on hover */\n",
       "#sk-container-id-1 div.sk-estimator:hover {\n",
       "  /* unfitted */\n",
       "  background-color: var(--sklearn-color-unfitted-level-2);\n",
       "}\n",
       "\n",
       "#sk-container-id-1 div.sk-estimator.fitted:hover {\n",
       "  /* fitted */\n",
       "  background-color: var(--sklearn-color-fitted-level-2);\n",
       "}\n",
       "\n",
       "/* Specification for estimator info (e.g. \"i\" and \"?\") */\n",
       "\n",
       "/* Common style for \"i\" and \"?\" */\n",
       "\n",
       ".sk-estimator-doc-link,\n",
       "a:link.sk-estimator-doc-link,\n",
       "a:visited.sk-estimator-doc-link {\n",
       "  float: right;\n",
       "  font-size: smaller;\n",
       "  line-height: 1em;\n",
       "  font-family: monospace;\n",
       "  background-color: var(--sklearn-color-background);\n",
       "  border-radius: 1em;\n",
       "  height: 1em;\n",
       "  width: 1em;\n",
       "  text-decoration: none !important;\n",
       "  margin-left: 1ex;\n",
       "  /* unfitted */\n",
       "  border: var(--sklearn-color-unfitted-level-1) 1pt solid;\n",
       "  color: var(--sklearn-color-unfitted-level-1);\n",
       "}\n",
       "\n",
       ".sk-estimator-doc-link.fitted,\n",
       "a:link.sk-estimator-doc-link.fitted,\n",
       "a:visited.sk-estimator-doc-link.fitted {\n",
       "  /* fitted */\n",
       "  border: var(--sklearn-color-fitted-level-1) 1pt solid;\n",
       "  color: var(--sklearn-color-fitted-level-1);\n",
       "}\n",
       "\n",
       "/* On hover */\n",
       "div.sk-estimator:hover .sk-estimator-doc-link:hover,\n",
       ".sk-estimator-doc-link:hover,\n",
       "div.sk-label-container:hover .sk-estimator-doc-link:hover,\n",
       ".sk-estimator-doc-link:hover {\n",
       "  /* unfitted */\n",
       "  background-color: var(--sklearn-color-unfitted-level-3);\n",
       "  color: var(--sklearn-color-background);\n",
       "  text-decoration: none;\n",
       "}\n",
       "\n",
       "div.sk-estimator.fitted:hover .sk-estimator-doc-link.fitted:hover,\n",
       ".sk-estimator-doc-link.fitted:hover,\n",
       "div.sk-label-container:hover .sk-estimator-doc-link.fitted:hover,\n",
       ".sk-estimator-doc-link.fitted:hover {\n",
       "  /* fitted */\n",
       "  background-color: var(--sklearn-color-fitted-level-3);\n",
       "  color: var(--sklearn-color-background);\n",
       "  text-decoration: none;\n",
       "}\n",
       "\n",
       "/* Span, style for the box shown on hovering the info icon */\n",
       ".sk-estimator-doc-link span {\n",
       "  display: none;\n",
       "  z-index: 9999;\n",
       "  position: relative;\n",
       "  font-weight: normal;\n",
       "  right: .2ex;\n",
       "  padding: .5ex;\n",
       "  margin: .5ex;\n",
       "  width: min-content;\n",
       "  min-width: 20ex;\n",
       "  max-width: 50ex;\n",
       "  color: var(--sklearn-color-text);\n",
       "  box-shadow: 2pt 2pt 4pt #999;\n",
       "  /* unfitted */\n",
       "  background: var(--sklearn-color-unfitted-level-0);\n",
       "  border: .5pt solid var(--sklearn-color-unfitted-level-3);\n",
       "}\n",
       "\n",
       ".sk-estimator-doc-link.fitted span {\n",
       "  /* fitted */\n",
       "  background: var(--sklearn-color-fitted-level-0);\n",
       "  border: var(--sklearn-color-fitted-level-3);\n",
       "}\n",
       "\n",
       ".sk-estimator-doc-link:hover span {\n",
       "  display: block;\n",
       "}\n",
       "\n",
       "/* \"?\"-specific style due to the `<a>` HTML tag */\n",
       "\n",
       "#sk-container-id-1 a.estimator_doc_link {\n",
       "  float: right;\n",
       "  font-size: 1rem;\n",
       "  line-height: 1em;\n",
       "  font-family: monospace;\n",
       "  background-color: var(--sklearn-color-background);\n",
       "  border-radius: 1rem;\n",
       "  height: 1rem;\n",
       "  width: 1rem;\n",
       "  text-decoration: none;\n",
       "  /* unfitted */\n",
       "  color: var(--sklearn-color-unfitted-level-1);\n",
       "  border: var(--sklearn-color-unfitted-level-1) 1pt solid;\n",
       "}\n",
       "\n",
       "#sk-container-id-1 a.estimator_doc_link.fitted {\n",
       "  /* fitted */\n",
       "  border: var(--sklearn-color-fitted-level-1) 1pt solid;\n",
       "  color: var(--sklearn-color-fitted-level-1);\n",
       "}\n",
       "\n",
       "/* On hover */\n",
       "#sk-container-id-1 a.estimator_doc_link:hover {\n",
       "  /* unfitted */\n",
       "  background-color: var(--sklearn-color-unfitted-level-3);\n",
       "  color: var(--sklearn-color-background);\n",
       "  text-decoration: none;\n",
       "}\n",
       "\n",
       "#sk-container-id-1 a.estimator_doc_link.fitted:hover {\n",
       "  /* fitted */\n",
       "  background-color: var(--sklearn-color-fitted-level-3);\n",
       "}\n",
       "</style><div id=\"sk-container-id-1\" class=\"sk-top-container\"><div class=\"sk-text-repr-fallback\"><pre>LinearRegression()</pre><b>In a Jupyter environment, please rerun this cell to show the HTML representation or trust the notebook. <br />On GitHub, the HTML representation is unable to render, please try loading this page with nbviewer.org.</b></div><div class=\"sk-container\" hidden><div class=\"sk-item\"><div class=\"sk-estimator fitted sk-toggleable\"><input class=\"sk-toggleable__control sk-hidden--visually\" id=\"sk-estimator-id-1\" type=\"checkbox\" checked><label for=\"sk-estimator-id-1\" class=\"sk-toggleable__label fitted sk-toggleable__label-arrow fitted\">&nbsp;&nbsp;LinearRegression<a class=\"sk-estimator-doc-link fitted\" rel=\"noreferrer\" target=\"_blank\" href=\"https://scikit-learn.org/1.4/modules/generated/sklearn.linear_model.LinearRegression.html\">?<span>Documentation for LinearRegression</span></a><span class=\"sk-estimator-doc-link fitted\">i<span>Fitted</span></span></label><div class=\"sk-toggleable__content fitted\"><pre>LinearRegression()</pre></div> </div></div></div></div>"
      ],
      "text/plain": [
       "LinearRegression()"
      ]
     },
     "execution_count": 24,
     "metadata": {},
     "output_type": "execute_result"
    }
   ],
   "source": [
    "standard_model_results['standard_linear_reg_lead7']"
   ]
  },
  {
   "cell_type": "markdown",
   "id": "fad049fb",
   "metadata": {},
   "source": [
    "Step 2: Show the most important features for each of the models"
   ]
  },
  {
   "cell_type": "code",
   "execution_count": 25,
   "id": "f3faead2",
   "metadata": {},
   "outputs": [
    {
     "data": {
      "image/png": "[encoded data removed]",
      "text/plain": [
       "<Figure size 720x576 with 1 Axes>"
      ]
     },
     "metadata": {
      "needs_background": "light"
     },
     "output_type": "display_data"
    },
    {
     "data": {
      "text/plain": [
       "Index(['GoldETF', 'BondIndex', 'PreciousMetalsIndex', 'EMA200', 'IGIndex',\n",
       "       'SMA200', 'DaysSince18Nov04', 'EMA50', 'BollL', 'Ust10y', 'Ust5y',\n",
       "       'CommodsIndex', 'SMA50', 'SPX', 'Silver', 'BollU', 'Lag6Gold',\n",
       "       'CorpSpread', 'Lag90Gold', 'Lag0Gold', 'HYIndex', 'WTI', 'Lag14Gold',\n",
       "       'BollM', 'Ust2y', 'Brent', 'Lag2Gold', 'Sterling', 'Ust30y', 'Lag5Gold',\n",
       "       'Lag7Gold', 'Lag1Gold', 'Unrate', 'Platinum', 'Yen', 'DollarIndex',\n",
       "       'Euro', 'Lag360Gold', 'NDX', 'Lag3Gold'],\n",
       "      dtype='object')"
      ]
     },
     "execution_count": 25,
     "metadata": {},
     "output_type": "execute_result"
    }
   ],
   "source": [
    "show_feature_impt_plot(standard_model_results['standard_linear_reg_lead7'],X_train_lead7, \"standard_linear_reg_lead7\", 40)"
   ]
  },
  {
   "cell_type": "code",
   "execution_count": 26,
   "id": "1f4c58f1",
   "metadata": {},
   "outputs": [
    {
     "data": {
      "image/png": "[encoded data removed]",
      "text/plain": [
       "<Figure size 720x576 with 1 Axes>"
      ]
     },
     "metadata": {
      "needs_background": "light"
     },
     "output_type": "display_data"
    },
    {
     "data": {
      "text/plain": [
       "Index(['BondIndex', 'DaysSince18Nov04', 'IGIndex', 'GoldETF',\n",
       "       'PreciousMetalsIndex', 'EMA200', 'BollL', 'CommodsIndex', 'BollU',\n",
       "       'SMA50', 'HYIndex', 'SMA200', 'WTI', 'CorpSpread', 'EMA50', 'SPX',\n",
       "       'Silver', 'Lag0Gold', 'DJIA', 'Yen', 'NDX', 'Ust10y', 'Unrate', 'Ust2y',\n",
       "       'Ust5y', 'Lag90Gold', 'Lag30Gold', 'FedBS', 'Lag60Gold', 'EFFR',\n",
       "       'RSI14', 'GoldETFSharesOutstanding', 'Sterling', 'Lag2Gold', 'Yuan',\n",
       "       'BollW', 'Lag4Gold', 'Lag1Gold', 'Ust30y', 'BollPerc'],\n",
       "      dtype='object')"
      ]
     },
     "execution_count": 26,
     "metadata": {},
     "output_type": "execute_result"
    }
   ],
   "source": [
    "show_feature_impt_plot(standard_model_results['standard_linear_reg_lead30'],X_train_lead30, \"standard_linear_reg_lead30\", 40)"
   ]
  },
  {
   "cell_type": "code",
   "execution_count": 27,
   "id": "d0f7d523",
   "metadata": {},
   "outputs": [
    {
     "data": {
      "image/png": "[encoded data removed]",
      "text/plain": [
       "<Figure size 720x576 with 1 Axes>"
      ]
     },
     "metadata": {
      "needs_background": "light"
     },
     "output_type": "display_data"
    },
    {
     "data": {
      "text/plain": [
       "Index(['BondIndex', 'IGIndex', 'DaysSince18Nov04', 'EMA50', 'SMA200', 'EMA200',\n",
       "       'BollU', 'Ust5y', 'SMA50', 'NDX', 'Ust30y', 'HYIndex', 'EFFR', 'Ust2y',\n",
       "       'BollL', 'Lag0Gold', 'Yuan', 'BollM', 'Yen', 'CommodsIndex',\n",
       "       'CorpSpread', 'Ust10y', 'GoldETF', 'FedBS', 'PreciousMetalsIndex',\n",
       "       'Lag7Gold', 'WTI', 'Lag30Gold', 'CCI', 'Platinum', 'Euro', 'Lag60Gold',\n",
       "       'BollW', 'Silver', 'Sterling', 'CopperIndex', 'CPIYOY', 'Lag360Gold',\n",
       "       'PCEYOY', 'PCECore'],\n",
       "      dtype='object')"
      ]
     },
     "execution_count": 27,
     "metadata": {},
     "output_type": "execute_result"
    }
   ],
   "source": [
    "show_feature_impt_plot(standard_model_results['standard_linear_reg_lead180'],X_train_lead180, \"standard_linear_reg_lead180\", 40)"
   ]
  },
  {
   "cell_type": "code",
   "execution_count": 28,
   "id": "0ee71b03",
   "metadata": {},
   "outputs": [
    {
     "data": {
      "image/png": "[encoded data removed]",
      "text/plain": [
       "<Figure size 720x576 with 1 Axes>"
      ]
     },
     "metadata": {
      "needs_background": "light"
     },
     "output_type": "display_data"
    },
    {
     "data": {
      "text/plain": [
       "Index(['EMA50', 'BondIndex', 'EMA200', 'SMA50', 'IGIndex', 'SMA200', 'Ust10y',\n",
       "       'BollL', 'Ust5y', 'DollarIndex', 'Unrate', 'NDX', 'BollU', 'Ust3m',\n",
       "       'SPX', 'Euro', 'DJIA', 'CommodsIndex', 'Sterling',\n",
       "       'GoldETFSharesOutstanding', 'GoldETF', 'BollM', 'Yen', 'Aussie',\n",
       "       'Lag6Gold', 'Ust30y', 'Ust2y', 'FedBS', 'NFP', 'Yuan',\n",
       "       'PreciousMetalsIndex', 'Lag14Gold', 'Lag60Gold', 'Lag360Gold', 'WTI',\n",
       "       'Lag30Gold', 'Brent', 'Ruble', 'CopperIndex', 'CorpSpread'],\n",
       "      dtype='object')"
      ]
     },
     "execution_count": 28,
     "metadata": {},
     "output_type": "execute_result"
    }
   ],
   "source": [
    "show_feature_impt_plot(standard_model_results['standard_linear_reg_lead360'],X_train_lead360, \"standard_linear_reg_lead360\", 40)"
   ]
  },
  {
   "cell_type": "markdown",
   "id": "d711af0c",
   "metadata": {},
   "source": [
    "## Linear Regression with Regularisation"
   ]
  },
  {
   "cell_type": "markdown",
   "id": "e9a67621",
   "metadata": {},
   "source": [
    "### Model 2: Linear Regression with Elastic Net Regularisation\n"
   ]
  },
  {
   "cell_type": "code",
   "execution_count": 25,
   "id": "daca5a74",
   "metadata": {},
   "outputs": [
    {
     "name": "stderr",
     "output_type": "stream",
     "text": [
      "/Users/ezekielang/opt/anaconda3/lib/python3.9/site-packages/sklearn/linear_model/_coordinate_descent.py:664: ConvergenceWarning: Objective did not converge. You might want to increase the number of iterations. Duality gap: 52111.91059484705, tolerance: 47817.00719991815\n",
      "  model = cd_fast.enet_coordinate_descent_gram(\n",
      "/Users/ezekielang/opt/anaconda3/lib/python3.9/site-packages/sklearn/linear_model/_coordinate_descent.py:664: ConvergenceWarning: Objective did not converge. You might want to increase the number of iterations. Duality gap: 51851.125776447356, tolerance: 47290.89579618787\n",
      "  model = cd_fast.enet_coordinate_descent_gram(\n",
      "/Users/ezekielang/opt/anaconda3/lib/python3.9/site-packages/sklearn/linear_model/_coordinate_descent.py:678: ConvergenceWarning: Objective did not converge. You might want to increase the number of iterations, check the scale of the features or consider increasing regularisation. Duality gap: 5.122e+05, tolerance: 5.284e+04\n",
      "  model = cd_fast.enet_coordinate_descent(\n"
     ]
    },
    {
     "name": "stdout",
     "output_type": "stream",
     "text": [
      "Fitting Elastic Net model for: lead7\n",
      "Elastic Net Results for lead7 - MSE: 662.5832111379068, R^2: 0.9945102632150821, Adjusted R^2: 0.9942252217753558\n",
      "\n",
      "Fitting Elastic Net model for: lead30\n"
     ]
    },
    {
     "name": "stderr",
     "output_type": "stream",
     "text": [
      "/Users/ezekielang/opt/anaconda3/lib/python3.9/site-packages/sklearn/linear_model/_coordinate_descent.py:678: ConvergenceWarning: Objective did not converge. You might want to increase the number of iterations, check the scale of the features or consider increasing regularisation. Duality gap: 6.261e+04, tolerance: 5.284e+04\n",
      "  model = cd_fast.enet_coordinate_descent(\n"
     ]
    },
    {
     "name": "stdout",
     "output_type": "stream",
     "text": [
      "Elastic Net Results for lead30 - MSE: 1984.6373767472937, R^2: 0.9837611538401447, Adjusted R^2: 0.9829179906302772\n",
      "\n",
      "Fitting Elastic Net model for: lead180\n"
     ]
    },
    {
     "name": "stderr",
     "output_type": "stream",
     "text": [
      "/Users/ezekielang/opt/anaconda3/lib/python3.9/site-packages/sklearn/linear_model/_coordinate_descent.py:678: ConvergenceWarning: Objective did not converge. You might want to increase the number of iterations, check the scale of the features or consider increasing regularisation. Duality gap: 2.239e+05, tolerance: 4.822e+04\n",
      "  model = cd_fast.enet_coordinate_descent(\n"
     ]
    },
    {
     "name": "stdout",
     "output_type": "stream",
     "text": [
      "Elastic Net Results for lead180 - MSE: 2841.720086783633, R^2: 0.9746993825119826, Adjusted R^2: 0.9733857085204421\n",
      "\n",
      "Fitting Elastic Net model for: lead360\n",
      "Elastic Net Results for lead360 - MSE: 2796.44067508542, R^2: 0.9737012395260023, Adjusted R^2: 0.972335739349542\n",
      "\n"
     ]
    },
    {
     "name": "stderr",
     "output_type": "stream",
     "text": [
      "/Users/ezekielang/opt/anaconda3/lib/python3.9/site-packages/sklearn/linear_model/_coordinate_descent.py:678: ConvergenceWarning: Objective did not converge. You might want to increase the number of iterations, check the scale of the features or consider increasing regularisation. Duality gap: 9.787e+05, tolerance: 4.393e+04\n",
      "  model = cd_fast.enet_coordinate_descent(\n"
     ]
    }
   ],
   "source": [
    "## Tuning:\n",
    "    \n",
    "# ElasticNetCV automatically finds the best alpha and l1_ratio values\n",
    "elastic_net_cv = ElasticNetCV(cv=10, random_state=0, l1_ratio=[.1, .5, .7, .9, .95, .99, 1])\n",
    "\n",
    "# Fit the model\n",
    "elastic_net_cv.fit(X_train_lead30, y_train_lead30)\n",
    "\n",
    "# ElasticNet using the best parameters found by CV\n",
    "elastic_net = ElasticNet(alpha=elastic_net_cv.alpha_, l1_ratio=elastic_net_cv.l1_ratio_, max_iter=3000)\n",
    "\n",
    "elastic_net_model_results = train_models_on_all_data(datasets, elastic_net, \"Elastic Net\")"
   ]
  },
  {
   "cell_type": "code",
   "execution_count": 26,
   "id": "d8590327",
   "metadata": {},
   "outputs": [
    {
     "data": {
      "text/plain": [
       "{'algorithm_name': 'Elastic Net',\n",
       " 'lead7': {'MSE': 662.5832111379068,\n",
       "  'R^2': 0.9945102632150821,\n",
       "  'Adjusted R^2': 0.9942252217753558},\n",
       " 'Elastic Net_lead7': ElasticNet(alpha=0.3473546392322341, l1_ratio=1.0, max_iter=3000),\n",
       " 'lead30': {'MSE': 1984.6373767472937,\n",
       "  'R^2': 0.9837611538401447,\n",
       "  'Adjusted R^2': 0.9829179906302772},\n",
       " 'Elastic Net_lead30': ElasticNet(alpha=0.3473546392322341, l1_ratio=1.0, max_iter=3000),\n",
       " 'lead180': {'MSE': 2841.720086783633,\n",
       "  'R^2': 0.9746993825119826,\n",
       "  'Adjusted R^2': 0.9733857085204421},\n",
       " 'Elastic Net_lead180': ElasticNet(alpha=0.3473546392322341, l1_ratio=1.0, max_iter=3000),\n",
       " 'lead360': {'MSE': 2796.44067508542,\n",
       "  'R^2': 0.9737012395260023,\n",
       "  'Adjusted R^2': 0.972335739349542},\n",
       " 'Elastic Net_lead360': ElasticNet(alpha=0.3473546392322341, l1_ratio=1.0, max_iter=3000)}"
      ]
     },
     "execution_count": 26,
     "metadata": {},
     "output_type": "execute_result"
    }
   ],
   "source": [
    "elastic_net_model_results"
   ]
  },
  {
   "cell_type": "code",
   "execution_count": 27,
   "id": "3776d5ec",
   "metadata": {},
   "outputs": [
    {
     "data": {
      "image/png": "[encoded data removed]",
      "text/plain": [
       "<Figure size 720x576 with 1 Axes>"
      ]
     },
     "metadata": {
      "needs_background": "light"
     },
     "output_type": "display_data"
    }
   ],
   "source": [
    "elastic_net_top_features = show_feature_impt_plot(elastic_net_model_results['Elastic Net_lead7'],X_train_lead7, \"Elastic Net Model Lead 7\", 25)"
   ]
  },
  {
   "cell_type": "markdown",
   "id": "1f4bd68c",
   "metadata": {},
   "source": [
    "### Lasso Regression"
   ]
  },
  {
   "cell_type": "code",
   "execution_count": 28,
   "id": "dcc5076f",
   "metadata": {},
   "outputs": [
    {
     "name": "stderr",
     "output_type": "stream",
     "text": [
      "/Users/ezekielang/opt/anaconda3/lib/python3.9/site-packages/sklearn/linear_model/_coordinate_descent.py:664: ConvergenceWarning: Objective did not converge. You might want to increase the number of iterations. Duality gap: 295324.5715489397, tolerance: 47637.354488012475\n",
      "  model = cd_fast.enet_coordinate_descent_gram(\n",
      "/Users/ezekielang/opt/anaconda3/lib/python3.9/site-packages/sklearn/linear_model/_coordinate_descent.py:664: ConvergenceWarning: Objective did not converge. You might want to increase the number of iterations. Duality gap: 1901993.2991487077, tolerance: 47637.354488012475\n",
      "  model = cd_fast.enet_coordinate_descent_gram(\n",
      "/Users/ezekielang/opt/anaconda3/lib/python3.9/site-packages/sklearn/linear_model/_coordinate_descent.py:664: ConvergenceWarning: Objective did not converge. You might want to increase the number of iterations. Duality gap: 2192348.4232067936, tolerance: 47637.354488012475\n",
      "  model = cd_fast.enet_coordinate_descent_gram(\n",
      "/Users/ezekielang/opt/anaconda3/lib/python3.9/site-packages/sklearn/linear_model/_coordinate_descent.py:664: ConvergenceWarning: Objective did not converge. You might want to increase the number of iterations. Duality gap: 2191584.9981752587, tolerance: 47637.354488012475\n",
      "  model = cd_fast.enet_coordinate_descent_gram(\n",
      "/Users/ezekielang/opt/anaconda3/lib/python3.9/site-packages/sklearn/linear_model/_coordinate_descent.py:664: ConvergenceWarning: Objective did not converge. You might want to increase the number of iterations. Duality gap: 2155607.5109611996, tolerance: 47637.354488012475\n",
      "  model = cd_fast.enet_coordinate_descent_gram(\n",
      "/Users/ezekielang/opt/anaconda3/lib/python3.9/site-packages/sklearn/linear_model/_coordinate_descent.py:664: ConvergenceWarning: Objective did not converge. You might want to increase the number of iterations. Duality gap: 293255.21188510023, tolerance: 47532.99201127373\n",
      "  model = cd_fast.enet_coordinate_descent_gram(\n",
      "/Users/ezekielang/opt/anaconda3/lib/python3.9/site-packages/sklearn/linear_model/_coordinate_descent.py:664: ConvergenceWarning: Objective did not converge. You might want to increase the number of iterations. Duality gap: 1897741.2993556787, tolerance: 47532.99201127373\n",
      "  model = cd_fast.enet_coordinate_descent_gram(\n",
      "/Users/ezekielang/opt/anaconda3/lib/python3.9/site-packages/sklearn/linear_model/_coordinate_descent.py:664: ConvergenceWarning: Objective did not converge. You might want to increase the number of iterations. Duality gap: 2160661.867693202, tolerance: 47532.99201127373\n",
      "  model = cd_fast.enet_coordinate_descent_gram(\n",
      "/Users/ezekielang/opt/anaconda3/lib/python3.9/site-packages/sklearn/linear_model/_coordinate_descent.py:664: ConvergenceWarning: Objective did not converge. You might want to increase the number of iterations. Duality gap: 2149940.2890777, tolerance: 47532.99201127373\n",
      "  model = cd_fast.enet_coordinate_descent_gram(\n",
      "/Users/ezekielang/opt/anaconda3/lib/python3.9/site-packages/sklearn/linear_model/_coordinate_descent.py:664: ConvergenceWarning: Objective did not converge. You might want to increase the number of iterations. Duality gap: 2114958.0452087945, tolerance: 47532.99201127373\n",
      "  model = cd_fast.enet_coordinate_descent_gram(\n",
      "/Users/ezekielang/opt/anaconda3/lib/python3.9/site-packages/sklearn/linear_model/_coordinate_descent.py:664: ConvergenceWarning: Objective did not converge. You might want to increase the number of iterations. Duality gap: 367633.80744198244, tolerance: 47342.68463586635\n",
      "  model = cd_fast.enet_coordinate_descent_gram(\n",
      "/Users/ezekielang/opt/anaconda3/lib/python3.9/site-packages/sklearn/linear_model/_coordinate_descent.py:664: ConvergenceWarning: Objective did not converge. You might want to increase the number of iterations. Duality gap: 1879285.3019894292, tolerance: 47342.68463586635\n",
      "  model = cd_fast.enet_coordinate_descent_gram(\n",
      "/Users/ezekielang/opt/anaconda3/lib/python3.9/site-packages/sklearn/linear_model/_coordinate_descent.py:664: ConvergenceWarning: Objective did not converge. You might want to increase the number of iterations. Duality gap: 2166113.5506017623, tolerance: 47342.68463586635\n",
      "  model = cd_fast.enet_coordinate_descent_gram(\n",
      "/Users/ezekielang/opt/anaconda3/lib/python3.9/site-packages/sklearn/linear_model/_coordinate_descent.py:664: ConvergenceWarning: Objective did not converge. You might want to increase the number of iterations. Duality gap: 2161076.9574867897, tolerance: 47342.68463586635\n",
      "  model = cd_fast.enet_coordinate_descent_gram(\n",
      "/Users/ezekielang/opt/anaconda3/lib/python3.9/site-packages/sklearn/linear_model/_coordinate_descent.py:664: ConvergenceWarning: Objective did not converge. You might want to increase the number of iterations. Duality gap: 2126219.330781973, tolerance: 47342.68463586635\n",
      "  model = cd_fast.enet_coordinate_descent_gram(\n",
      "/Users/ezekielang/opt/anaconda3/lib/python3.9/site-packages/sklearn/linear_model/_coordinate_descent.py:664: ConvergenceWarning: Objective did not converge. You might want to increase the number of iterations. Duality gap: 298751.7081638519, tolerance: 47026.32001261259\n",
      "  model = cd_fast.enet_coordinate_descent_gram(\n",
      "/Users/ezekielang/opt/anaconda3/lib/python3.9/site-packages/sklearn/linear_model/_coordinate_descent.py:664: ConvergenceWarning: Objective did not converge. You might want to increase the number of iterations. Duality gap: 1904889.6216562847, tolerance: 47026.32001261259\n",
      "  model = cd_fast.enet_coordinate_descent_gram(\n",
      "/Users/ezekielang/opt/anaconda3/lib/python3.9/site-packages/sklearn/linear_model/_coordinate_descent.py:664: ConvergenceWarning: Objective did not converge. You might want to increase the number of iterations. Duality gap: 2190797.7065202817, tolerance: 47026.32001261259\n",
      "  model = cd_fast.enet_coordinate_descent_gram(\n",
      "/Users/ezekielang/opt/anaconda3/lib/python3.9/site-packages/sklearn/linear_model/_coordinate_descent.py:664: ConvergenceWarning: Objective did not converge. You might want to increase the number of iterations. Duality gap: 2189535.6128426837, tolerance: 47026.32001261259\n",
      "  model = cd_fast.enet_coordinate_descent_gram(\n",
      "/Users/ezekielang/opt/anaconda3/lib/python3.9/site-packages/sklearn/linear_model/_coordinate_descent.py:664: ConvergenceWarning: Objective did not converge. You might want to increase the number of iterations. Duality gap: 2153752.604964473, tolerance: 47026.32001261259\n",
      "  model = cd_fast.enet_coordinate_descent_gram(\n",
      "/Users/ezekielang/opt/anaconda3/lib/python3.9/site-packages/sklearn/linear_model/_coordinate_descent.py:664: ConvergenceWarning: Objective did not converge. You might want to increase the number of iterations. Duality gap: 304056.83844307624, tolerance: 47539.51484966768\n",
      "  model = cd_fast.enet_coordinate_descent_gram(\n",
      "/Users/ezekielang/opt/anaconda3/lib/python3.9/site-packages/sklearn/linear_model/_coordinate_descent.py:664: ConvergenceWarning: Objective did not converge. You might want to increase the number of iterations. Duality gap: 1881506.1417636438, tolerance: 47539.51484966768\n",
      "  model = cd_fast.enet_coordinate_descent_gram(\n",
      "/Users/ezekielang/opt/anaconda3/lib/python3.9/site-packages/sklearn/linear_model/_coordinate_descent.py:664: ConvergenceWarning: Objective did not converge. You might want to increase the number of iterations. Duality gap: 2205791.4538937467, tolerance: 47539.51484966768\n",
      "  model = cd_fast.enet_coordinate_descent_gram(\n",
      "/Users/ezekielang/opt/anaconda3/lib/python3.9/site-packages/sklearn/linear_model/_coordinate_descent.py:664: ConvergenceWarning: Objective did not converge. You might want to increase the number of iterations. Duality gap: 2198738.347889504, tolerance: 47539.51484966768\n",
      "  model = cd_fast.enet_coordinate_descent_gram(\n",
      "/Users/ezekielang/opt/anaconda3/lib/python3.9/site-packages/sklearn/linear_model/_coordinate_descent.py:664: ConvergenceWarning: Objective did not converge. You might want to increase the number of iterations. Duality gap: 2163363.660038153, tolerance: 47539.51484966768\n",
      "  model = cd_fast.enet_coordinate_descent_gram(\n",
      "/Users/ezekielang/opt/anaconda3/lib/python3.9/site-packages/sklearn/linear_model/_coordinate_descent.py:664: ConvergenceWarning: Objective did not converge. You might want to increase the number of iterations. Duality gap: 316022.4412003802, tolerance: 48145.03417366251\n",
      "  model = cd_fast.enet_coordinate_descent_gram(\n",
      "/Users/ezekielang/opt/anaconda3/lib/python3.9/site-packages/sklearn/linear_model/_coordinate_descent.py:664: ConvergenceWarning: Objective did not converge. You might want to increase the number of iterations. Duality gap: 1830500.8336649588, tolerance: 48145.03417366251\n",
      "  model = cd_fast.enet_coordinate_descent_gram(\n",
      "/Users/ezekielang/opt/anaconda3/lib/python3.9/site-packages/sklearn/linear_model/_coordinate_descent.py:664: ConvergenceWarning: Objective did not converge. You might want to increase the number of iterations. Duality gap: 2165379.1468279324, tolerance: 48145.03417366251\n",
      "  model = cd_fast.enet_coordinate_descent_gram(\n",
      "/Users/ezekielang/opt/anaconda3/lib/python3.9/site-packages/sklearn/linear_model/_coordinate_descent.py:664: ConvergenceWarning: Objective did not converge. You might want to increase the number of iterations. Duality gap: 2167293.566920983, tolerance: 48145.03417366251\n",
      "  model = cd_fast.enet_coordinate_descent_gram(\n",
      "/Users/ezekielang/opt/anaconda3/lib/python3.9/site-packages/sklearn/linear_model/_coordinate_descent.py:664: ConvergenceWarning: Objective did not converge. You might want to increase the number of iterations. Duality gap: 2134025.4396727057, tolerance: 48145.03417366251\n",
      "  model = cd_fast.enet_coordinate_descent_gram(\n",
      "/Users/ezekielang/opt/anaconda3/lib/python3.9/site-packages/sklearn/linear_model/_coordinate_descent.py:664: ConvergenceWarning: Objective did not converge. You might want to increase the number of iterations. Duality gap: 302059.7398339892, tolerance: 47657.5560150393\n",
      "  model = cd_fast.enet_coordinate_descent_gram(\n",
      "/Users/ezekielang/opt/anaconda3/lib/python3.9/site-packages/sklearn/linear_model/_coordinate_descent.py:664: ConvergenceWarning: Objective did not converge. You might want to increase the number of iterations. Duality gap: 1909225.107772794, tolerance: 47657.5560150393\n",
      "  model = cd_fast.enet_coordinate_descent_gram(\n",
      "/Users/ezekielang/opt/anaconda3/lib/python3.9/site-packages/sklearn/linear_model/_coordinate_descent.py:664: ConvergenceWarning: Objective did not converge. You might want to increase the number of iterations. Duality gap: 2195773.7641004967, tolerance: 47657.5560150393\n",
      "  model = cd_fast.enet_coordinate_descent_gram(\n",
      "/Users/ezekielang/opt/anaconda3/lib/python3.9/site-packages/sklearn/linear_model/_coordinate_descent.py:664: ConvergenceWarning: Objective did not converge. You might want to increase the number of iterations. Duality gap: 2200267.203436925, tolerance: 47657.5560150393\n",
      "  model = cd_fast.enet_coordinate_descent_gram(\n",
      "/Users/ezekielang/opt/anaconda3/lib/python3.9/site-packages/sklearn/linear_model/_coordinate_descent.py:664: ConvergenceWarning: Objective did not converge. You might want to increase the number of iterations. Duality gap: 2168760.686967065, tolerance: 47657.5560150393\n",
      "  model = cd_fast.enet_coordinate_descent_gram(\n",
      "/Users/ezekielang/opt/anaconda3/lib/python3.9/site-packages/sklearn/linear_model/_coordinate_descent.py:664: ConvergenceWarning: Objective did not converge. You might want to increase the number of iterations. Duality gap: 261338.7127266135, tolerance: 47817.00719991815\n",
      "  model = cd_fast.enet_coordinate_descent_gram(\n",
      "/Users/ezekielang/opt/anaconda3/lib/python3.9/site-packages/sklearn/linear_model/_coordinate_descent.py:664: ConvergenceWarning: Objective did not converge. You might want to increase the number of iterations. Duality gap: 1865729.454368832, tolerance: 47817.00719991815\n",
      "  model = cd_fast.enet_coordinate_descent_gram(\n",
      "/Users/ezekielang/opt/anaconda3/lib/python3.9/site-packages/sklearn/linear_model/_coordinate_descent.py:664: ConvergenceWarning: Objective did not converge. You might want to increase the number of iterations. Duality gap: 2182373.187547655, tolerance: 47817.00719991815\n",
      "  model = cd_fast.enet_coordinate_descent_gram(\n",
      "/Users/ezekielang/opt/anaconda3/lib/python3.9/site-packages/sklearn/linear_model/_coordinate_descent.py:664: ConvergenceWarning: Objective did not converge. You might want to increase the number of iterations. Duality gap: 2180980.61795778, tolerance: 47817.00719991815\n",
      "  model = cd_fast.enet_coordinate_descent_gram(\n",
      "/Users/ezekielang/opt/anaconda3/lib/python3.9/site-packages/sklearn/linear_model/_coordinate_descent.py:664: ConvergenceWarning: Objective did not converge. You might want to increase the number of iterations. Duality gap: 2147009.434299735, tolerance: 47817.00719991815\n",
      "  model = cd_fast.enet_coordinate_descent_gram(\n",
      "/Users/ezekielang/opt/anaconda3/lib/python3.9/site-packages/sklearn/linear_model/_coordinate_descent.py:664: ConvergenceWarning: Objective did not converge. You might want to increase the number of iterations. Duality gap: 293791.70365549624, tolerance: 47590.1931671386\n",
      "  model = cd_fast.enet_coordinate_descent_gram(\n",
      "/Users/ezekielang/opt/anaconda3/lib/python3.9/site-packages/sklearn/linear_model/_coordinate_descent.py:664: ConvergenceWarning: Objective did not converge. You might want to increase the number of iterations. Duality gap: 1926680.7526006373, tolerance: 47590.1931671386\n",
      "  model = cd_fast.enet_coordinate_descent_gram(\n",
      "/Users/ezekielang/opt/anaconda3/lib/python3.9/site-packages/sklearn/linear_model/_coordinate_descent.py:664: ConvergenceWarning: Objective did not converge. You might want to increase the number of iterations. Duality gap: 2178913.0761656063, tolerance: 47590.1931671386\n",
      "  model = cd_fast.enet_coordinate_descent_gram(\n",
      "/Users/ezekielang/opt/anaconda3/lib/python3.9/site-packages/sklearn/linear_model/_coordinate_descent.py:664: ConvergenceWarning: Objective did not converge. You might want to increase the number of iterations. Duality gap: 2170442.5027408917, tolerance: 47590.1931671386\n",
      "  model = cd_fast.enet_coordinate_descent_gram(\n",
      "/Users/ezekielang/opt/anaconda3/lib/python3.9/site-packages/sklearn/linear_model/_coordinate_descent.py:664: ConvergenceWarning: Objective did not converge. You might want to increase the number of iterations. Duality gap: 2135862.994623414, tolerance: 47590.1931671386\n",
      "  model = cd_fast.enet_coordinate_descent_gram(\n",
      "/Users/ezekielang/opt/anaconda3/lib/python3.9/site-packages/sklearn/linear_model/_coordinate_descent.py:664: ConvergenceWarning: Objective did not converge. You might want to increase the number of iterations. Duality gap: 325103.5702620214, tolerance: 47290.89579618787\n",
      "  model = cd_fast.enet_coordinate_descent_gram(\n",
      "/Users/ezekielang/opt/anaconda3/lib/python3.9/site-packages/sklearn/linear_model/_coordinate_descent.py:664: ConvergenceWarning: Objective did not converge. You might want to increase the number of iterations. Duality gap: 1867245.6622061222, tolerance: 47290.89579618787\n",
      "  model = cd_fast.enet_coordinate_descent_gram(\n",
      "/Users/ezekielang/opt/anaconda3/lib/python3.9/site-packages/sklearn/linear_model/_coordinate_descent.py:664: ConvergenceWarning: Objective did not converge. You might want to increase the number of iterations. Duality gap: 2183663.371353615, tolerance: 47290.89579618787\n",
      "  model = cd_fast.enet_coordinate_descent_gram(\n",
      "/Users/ezekielang/opt/anaconda3/lib/python3.9/site-packages/sklearn/linear_model/_coordinate_descent.py:664: ConvergenceWarning: Objective did not converge. You might want to increase the number of iterations. Duality gap: 2182561.136963727, tolerance: 47290.89579618787\n",
      "  model = cd_fast.enet_coordinate_descent_gram(\n",
      "/Users/ezekielang/opt/anaconda3/lib/python3.9/site-packages/sklearn/linear_model/_coordinate_descent.py:664: ConvergenceWarning: Objective did not converge. You might want to increase the number of iterations. Duality gap: 2148027.6947865146, tolerance: 47290.89579618787\n",
      "  model = cd_fast.enet_coordinate_descent_gram(\n",
      "/Users/ezekielang/opt/anaconda3/lib/python3.9/site-packages/sklearn/linear_model/_coordinate_descent.py:678: ConvergenceWarning: Objective did not converge. You might want to increase the number of iterations, check the scale of the features or consider increasing regularisation. Duality gap: 2.658e+06, tolerance: 5.284e+04\n",
      "  model = cd_fast.enet_coordinate_descent(\n"
     ]
    },
    {
     "name": "stdout",
     "output_type": "stream",
     "text": [
      "Best alpha found by LassoCV: 1e-05\n",
      "Fitting lasso model for: lead7\n"
     ]
    },
    {
     "name": "stderr",
     "output_type": "stream",
     "text": [
      "/Users/ezekielang/opt/anaconda3/lib/python3.9/site-packages/sklearn/linear_model/_coordinate_descent.py:678: ConvergenceWarning: Objective did not converge. You might want to increase the number of iterations, check the scale of the features or consider increasing regularisation. Duality gap: 1.140e+06, tolerance: 5.372e+04\n",
      "  model = cd_fast.enet_coordinate_descent(\n"
     ]
    },
    {
     "name": "stdout",
     "output_type": "stream",
     "text": [
      "lasso Results for lead7 - MSE: 542.8872251452865, R^2: 0.9955019868903352, Adjusted R^2: 0.9952684383281876\n",
      "\n",
      "Fitting lasso model for: lead30\n"
     ]
    },
    {
     "name": "stderr",
     "output_type": "stream",
     "text": [
      "/Users/ezekielang/opt/anaconda3/lib/python3.9/site-packages/sklearn/linear_model/_coordinate_descent.py:678: ConvergenceWarning: Objective did not converge. You might want to increase the number of iterations, check the scale of the features or consider increasing regularisation. Duality gap: 2.505e+06, tolerance: 5.284e+04\n",
      "  model = cd_fast.enet_coordinate_descent(\n"
     ]
    },
    {
     "name": "stdout",
     "output_type": "stream",
     "text": [
      "lasso Results for lead30 - MSE: 1315.417651276371, R^2: 0.9892368927818721, Adjusted R^2: 0.988678044207235\n",
      "\n",
      "Fitting lasso model for: lead180\n"
     ]
    },
    {
     "name": "stderr",
     "output_type": "stream",
     "text": [
      "/Users/ezekielang/opt/anaconda3/lib/python3.9/site-packages/sklearn/linear_model/_coordinate_descent.py:678: ConvergenceWarning: Objective did not converge. You might want to increase the number of iterations, check the scale of the features or consider increasing regularisation. Duality gap: 3.131e+06, tolerance: 4.822e+04\n",
      "  model = cd_fast.enet_coordinate_descent(\n"
     ]
    },
    {
     "name": "stdout",
     "output_type": "stream",
     "text": [
      "lasso Results for lead180 - MSE: 1610.468291916798, R^2: 0.9856615567381637, Adjusted R^2: 0.9849170673990725\n",
      "\n",
      "Fitting lasso model for: lead360\n",
      "lasso Results for lead360 - MSE: 1658.6013674291105, R^2: 0.9844019004327597, Adjusted R^2: 0.9835920064557195\n",
      "\n"
     ]
    },
    {
     "name": "stderr",
     "output_type": "stream",
     "text": [
      "/Users/ezekielang/opt/anaconda3/lib/python3.9/site-packages/sklearn/linear_model/_coordinate_descent.py:678: ConvergenceWarning: Objective did not converge. You might want to increase the number of iterations, check the scale of the features or consider increasing regularisation. Duality gap: 3.542e+06, tolerance: 4.393e+04\n",
      "  model = cd_fast.enet_coordinate_descent(\n"
     ]
    }
   ],
   "source": [
    "# Initialize LassoCV: 5-fold cross-validation by default\n",
    "lasso_cv = LassoCV(alphas=np.logspace(-5, 7, 13), # You can customize this alpha grid as needed\n",
    "                   cv=10, # Number of cross-validation folds\n",
    "                   random_state=0\n",
    "                   ,max_iter=3000) # Ensures reproducibility\n",
    "\n",
    "# Fit the LassoCV model to find the best alpha\n",
    "lasso_cv.fit(X_train_lead30, y_train_lead30)\n",
    "\n",
    "# Display the best alpha value found\n",
    "print(\"Best alpha found by LassoCV:\", lasso_cv.alpha_)\n",
    "# ElasticNet using the best parameters found by CV\n",
    "lasso = Lasso(alpha=lasso_cv.alpha_, max_iter=6000)\n",
    "\n",
    "lasso_results = train_models_on_all_data(datasets, lasso, \"lasso\")"
   ]
  },
  {
   "cell_type": "code",
   "execution_count": 29,
   "id": "d4b27d12",
   "metadata": {},
   "outputs": [
    {
     "data": {
      "text/plain": [
       "{'algorithm_name': 'lasso',\n",
       " 'lead7': {'MSE': 542.8872251452865,\n",
       "  'R^2': 0.9955019868903352,\n",
       "  'Adjusted R^2': 0.9952684383281876},\n",
       " 'lasso_lead7': Lasso(alpha=1e-05, max_iter=6000),\n",
       " 'lead30': {'MSE': 1315.417651276371,\n",
       "  'R^2': 0.9892368927818721,\n",
       "  'Adjusted R^2': 0.988678044207235},\n",
       " 'lasso_lead30': Lasso(alpha=1e-05, max_iter=6000),\n",
       " 'lead180': {'MSE': 1610.468291916798,\n",
       "  'R^2': 0.9856615567381637,\n",
       "  'Adjusted R^2': 0.9849170673990725},\n",
       " 'lasso_lead180': Lasso(alpha=1e-05, max_iter=6000),\n",
       " 'lead360': {'MSE': 1658.6013674291105,\n",
       "  'R^2': 0.9844019004327597,\n",
       "  'Adjusted R^2': 0.9835920064557195},\n",
       " 'lasso_lead360': Lasso(alpha=1e-05, max_iter=6000)}"
      ]
     },
     "execution_count": 29,
     "metadata": {},
     "output_type": "execute_result"
    }
   ],
   "source": [
    "lasso_results"
   ]
  },
  {
   "cell_type": "code",
   "execution_count": 30,
   "id": "2d66d04b",
   "metadata": {},
   "outputs": [
    {
     "data": {
      "image/png": "[encoded data removed]",
      "text/plain": [
       "<Figure size 720x576 with 1 Axes>"
      ]
     },
     "metadata": {
      "needs_background": "light"
     },
     "output_type": "display_data"
    },
    {
     "data": {
      "text/plain": [
       "Index(['SMA200', 'Ust10y', 'Ust10y_squared', 'Ust5y_squared', 'FedBS_cubed',\n",
       "       'EMA200_cubed', 'FedBS', 'CPICore_squared', 'Ust5y_cubed', 'HYIndex',\n",
       "       'Lag360Gold', 'DollarIndex', 'BondIndex', 'NDX_squared', 'SMA200_cubed',\n",
       "       'Lag0Gold_squared', 'Lag360Gold_squared', 'NDX_cubed', 'EMA50',\n",
       "       'VIX_squared', 'CorpSpread_squared', 'BollU', 'PCECore_squared',\n",
       "       'Lag0Gold', 'Yen', 'Aussie_squared', 'DaysSince18Nov04_squared',\n",
       "       'CPICore', 'CCI', 'Ust30y_squared', 'Lag180Gold_cubed', 'Euro_cubed',\n",
       "       'Aussie_cubed', 'CommodsIndex', 'BollU_squared', 'Unrate', 'DJIA',\n",
       "       'EMA200_squared', 'EMA200', 'CorpSpread', 'EMA50_squared',\n",
       "       'Ust10y_cubed', 'Euro_squared', 'DollarIndex_squared', 'SPX_squared',\n",
       "       'Ust3m_squared', 'Yen_cubed', 'Bitcoin_squared', 'HYIndex_cubed',\n",
       "       'Lag180Gold_squared'],\n",
       "      dtype='object')"
      ]
     },
     "execution_count": 30,
     "metadata": {},
     "output_type": "execute_result"
    }
   ],
   "source": [
    "show_feature_impt_plot(lasso_results['lasso_lead30'], X_train_lead30, \"Lasso Lead 30\", 50)"
   ]
  },
  {
   "cell_type": "markdown",
   "id": "00a3614b",
   "metadata": {},
   "source": [
    "## Ridge Regression\n"
   ]
  },
  {
   "cell_type": "code",
   "execution_count": 31,
   "id": "f22583f7",
   "metadata": {},
   "outputs": [
    {
     "name": "stdout",
     "output_type": "stream",
     "text": [
      "Best alpha found by RidgeCV: 1e-05\n",
      "Fitting ridge model for: lead7\n",
      "ridge Results for lead7 - MSE: 514.2347636072097, R^2: 0.995739382691255, Adjusted R^2: 0.9955181603377271\n",
      "\n",
      "Fitting ridge model for: lead30\n",
      "ridge Results for lead30 - MSE: 1048.5389216687352, R^2: 0.9914205675852454, Adjusted R^2: 0.9909751010968967\n",
      "\n",
      "Fitting ridge model for: lead180\n",
      "ridge Results for lead180 - MSE: 1098.1951980205997, R^2: 0.9902224653436065, Adjusted R^2: 0.9897147902647048\n",
      "\n",
      "Fitting ridge model for: lead360\n",
      "ridge Results for lead360 - MSE: 1083.6461713470756, R^2: 0.9898089913536424, Adjusted R^2: 0.9892798476276988\n",
      "\n"
     ]
    }
   ],
   "source": [
    "# Initialize RidgeCV: 5-fold cross-validation by default\n",
    "ridge_cv = RidgeCV(alphas=np.logspace(-5, 7, 13),  # You can customize this alpha grid as needed\n",
    "                   cv=10,  # Number of cross-validation folds\n",
    "                   scoring='neg_mean_squared_error')  # Specifies the score type for CV\n",
    "\n",
    "# Fit the RidgeCV model to find the best alpha\n",
    "ridge_cv.fit(X_train_lead7, y_train_lead7)\n",
    "\n",
    "# Display the best alpha value found\n",
    "print(\"Best alpha found by RidgeCV:\", ridge_cv.alpha_)\n",
    "\n",
    "# Ridge using the best parameters found by CV\n",
    "ridge = Ridge(alpha=ridge_cv.alpha_, max_iter=3000)\n",
    "\n",
    "# Assuming a function to train models on all data and calculate results\n",
    "ridge_results = train_models_on_all_data(datasets, ridge, \"ridge\")"
   ]
  },
  {
   "cell_type": "code",
   "execution_count": 32,
   "id": "76ba3baf",
   "metadata": {},
   "outputs": [
    {
     "data": {
      "text/plain": [
       "{'algorithm_name': 'ridge',\n",
       " 'lead7': {'MSE': 514.2347636072097,\n",
       "  'R^2': 0.995739382691255,\n",
       "  'Adjusted R^2': 0.9955181603377271},\n",
       " 'ridge_lead7': Ridge(alpha=1e-05, max_iter=3000),\n",
       " 'lead30': {'MSE': 1048.5389216687352,\n",
       "  'R^2': 0.9914205675852454,\n",
       "  'Adjusted R^2': 0.9909751010968967},\n",
       " 'ridge_lead30': Ridge(alpha=1e-05, max_iter=3000),\n",
       " 'lead180': {'MSE': 1098.1951980205997,\n",
       "  'R^2': 0.9902224653436065,\n",
       "  'Adjusted R^2': 0.9897147902647048},\n",
       " 'ridge_lead180': Ridge(alpha=1e-05, max_iter=3000),\n",
       " 'lead360': {'MSE': 1083.6461713470756,\n",
       "  'R^2': 0.9898089913536424,\n",
       "  'Adjusted R^2': 0.9892798476276988},\n",
       " 'ridge_lead360': Ridge(alpha=1e-05, max_iter=3000)}"
      ]
     },
     "execution_count": 32,
     "metadata": {},
     "output_type": "execute_result"
    }
   ],
   "source": [
    "ridge_results"
   ]
  },
  {
   "cell_type": "code",
   "execution_count": 33,
   "id": "108fc2c1",
   "metadata": {},
   "outputs": [
    {
     "data": {
      "image/png": "[encoded data removed]",
      "text/plain": [
       "<Figure size 720x576 with 1 Axes>"
      ]
     },
     "metadata": {
      "needs_background": "light"
     },
     "output_type": "display_data"
    },
    {
     "data": {
      "text/plain": [
       "Index(['Yuan_squared', 'BollM_squared', 'BollU_squared', 'Yuan', 'Yuan_cubed',\n",
       "       'BollL_squared', 'EMA50_cubed', 'HYIndex_squared', 'BollM_cubed',\n",
       "       'Euro_squared', 'EMA200', 'BollU_cubed', 'EMA50_squared', 'SPX_squared',\n",
       "       'SMA200_squared', 'SMA200', 'EMA200_cubed', 'DJIA_squared',\n",
       "       'HYIndex_cubed', 'BollL_cubed', 'Euro', 'Ust30y_squared', 'EMA50',\n",
       "       'BollL', 'DollarIndex_squared', 'CommodsIndex_squared', 'HYIndex',\n",
       "       'FedBS_squared', 'DollarIndex', 'Brent_squared', 'Euro_cubed', 'SPX',\n",
       "       'BollU', 'SPX_cubed', 'Ruble_squared', 'DJIA', 'Aussie_squared',\n",
       "       'GoldETFSharesOutstanding_squared', 'DJIA_cubed', 'DaysSince18Nov04',\n",
       "       'NDX_squared', 'Yen_squared', 'Ust30y', 'FedBS', 'Unrate_squared',\n",
       "       'CommodsIndex', 'Ruble', 'DaysSince18Nov04_squared', 'Ust30y_cubed',\n",
       "       'Brent'],\n",
       "      dtype='object')"
      ]
     },
     "execution_count": 33,
     "metadata": {},
     "output_type": "execute_result"
    }
   ],
   "source": [
    "show_feature_impt_plot(ridge_results['ridge_lead7'], X_train_lead7, \"Ridge Lead 7\", 50)"
   ]
  },
  {
   "cell_type": "markdown",
   "id": "2fc4b17e",
   "metadata": {},
   "source": [
    "## Stepwise Selection Models"
   ]
  },
  {
   "cell_type": "code",
   "execution_count": 117,
   "id": "4bcdd911",
   "metadata": {},
   "outputs": [],
   "source": [
    "def getStepwiseKFeatures(k, direction, X_train, y_train, X_test, y_test):\n",
    "    # Initialize the linear regression model\n",
    "    linmod = LinearRegression()\n",
    "    \n",
    "    # Initialize the forward or backward feature selector with the specified number of features\n",
    "    sfs = SequentialFeatureSelector(linmod, n_features_to_select=k, direction=direction)\n",
    "    sfs.fit(X_train, y_train)\n",
    "    \n",
    "    # Get the boolean mask of the selected features\n",
    "    selected_features = sfs.get_support()\n",
    "    \n",
    "    # Subset the training and test data to the selected features\n",
    "    current_X_train = X_train.iloc[:, selected_features]\n",
    "    current_X_test = X_test.iloc[:, selected_features]\n",
    "    \n",
    "    # Fit the linear model on the selected features\n",
    "    linmod.fit(current_X_train, y_train)\n",
    "    \n",
    "    # Make predictions on the test set\n",
    "    y_pred = linmod.predict(current_X_test)\n",
    "    \n",
    "    # Compute metrics\n",
    "    r2 = r2_score(y_test, y_pred)\n",
    "    mse = mean_squared_error(y_test, y_pred)\n",
    "    mae = mean_absolute_error(y_test, y_pred)\n",
    "    \n",
    "    # Calculate the number of observations and predictors for adjusted R^2\n",
    "    n = current_X_train.shape[0]  # number of observations\n",
    "    p = current_X_train.shape[1]  # number of predictors\n",
    "    \n",
    "    # Calculate adjusted R-squared\n",
    "    adjusted_r2 = 1 - ((1 - r2) * (n - 1) / (n - p - 1))\n",
    "    \n",
    "    # Return the results, including adjusted R^2\n",
    "    return {\n",
    "        \"model\": linmod,\n",
    "        \"R2\": r2,\n",
    "        \"Adjusted R2\": adjusted_r2,\n",
    "        \"MSE\": mse,\n",
    "        \"MAE\": mae,\n",
    "        \"N_features\": k,\n",
    "        \"Selected_features\": selected_features\n",
    "    }\n"
   ]
  },
  {
   "cell_type": "markdown",
   "id": "609fa32b",
   "metadata": {},
   "source": [
    "### Model 2: Stepwise Feature Selection (Forward Propogation)"
   ]
  },
  {
   "cell_type": "markdown",
   "id": "66ed02e6",
   "metadata": {},
   "source": []
  },
  {
   "cell_type": "code",
   "execution_count": 118,
   "id": "67022276",
   "metadata": {},
   "outputs": [
    {
     "ename": "KeyboardInterrupt",
     "evalue": "",
     "output_type": "error",
     "traceback": [
      "\u001b[1;31m---------------------------------------------------------------------------\u001b[0m",
      "\u001b[1;31mKeyboardInterrupt\u001b[0m                         Traceback (most recent call last)",
      "Cell \u001b[1;32mIn[118], line 1\u001b[0m\n\u001b[1;32m----> 1\u001b[0m forward_model_lead7 \u001b[38;5;241m=\u001b[39m getStepwiseKFeatures(\u001b[38;5;241m30\u001b[39m, \u001b[38;5;124m'\u001b[39m\u001b[38;5;124mforward\u001b[39m\u001b[38;5;124m'\u001b[39m, X_train_lead7, y_train_lead7, X_test_lead7, y_test_lead7)\n",
      "Cell \u001b[1;32mIn[117], line 7\u001b[0m, in \u001b[0;36mgetStepwiseKFeatures\u001b[1;34m(k, direction, X_train, y_train, X_test, y_test)\u001b[0m\n\u001b[0;32m      5\u001b[0m \u001b[38;5;66;03m# Initialize the forward or backward feature selector with the specified number of features\u001b[39;00m\n\u001b[0;32m      6\u001b[0m sfs \u001b[38;5;241m=\u001b[39m SequentialFeatureSelector(linmod, n_features_to_select\u001b[38;5;241m=\u001b[39mk, direction\u001b[38;5;241m=\u001b[39mdirection)\n\u001b[1;32m----> 7\u001b[0m sfs\u001b[38;5;241m.\u001b[39mfit(X_train, y_train)\n\u001b[0;32m      9\u001b[0m \u001b[38;5;66;03m# Get the boolean mask of the selected features\u001b[39;00m\n\u001b[0;32m     10\u001b[0m selected_features \u001b[38;5;241m=\u001b[39m sfs\u001b[38;5;241m.\u001b[39mget_support()\n",
      "File \u001b[1;32mC:\\ProgramData\\anaconda3\\Lib\\site-packages\\sklearn\\base.py:1151\u001b[0m, in \u001b[0;36m_fit_context.<locals>.decorator.<locals>.wrapper\u001b[1;34m(estimator, *args, **kwargs)\u001b[0m\n\u001b[0;32m   1144\u001b[0m     estimator\u001b[38;5;241m.\u001b[39m_validate_params()\n\u001b[0;32m   1146\u001b[0m \u001b[38;5;28;01mwith\u001b[39;00m config_context(\n\u001b[0;32m   1147\u001b[0m     skip_parameter_validation\u001b[38;5;241m=\u001b[39m(\n\u001b[0;32m   1148\u001b[0m         prefer_skip_nested_validation \u001b[38;5;129;01mor\u001b[39;00m global_skip_validation\n\u001b[0;32m   1149\u001b[0m     )\n\u001b[0;32m   1150\u001b[0m ):\n\u001b[1;32m-> 1151\u001b[0m     \u001b[38;5;28;01mreturn\u001b[39;00m fit_method(estimator, \u001b[38;5;241m*\u001b[39margs, \u001b[38;5;241m*\u001b[39m\u001b[38;5;241m*\u001b[39mkwargs)\n",
      "File \u001b[1;32mC:\\ProgramData\\anaconda3\\Lib\\site-packages\\sklearn\\feature_selection\\_sequential.py:246\u001b[0m, in \u001b[0;36mSequentialFeatureSelector.fit\u001b[1;34m(self, X, y)\u001b[0m\n\u001b[0;32m    244\u001b[0m is_auto_select \u001b[38;5;241m=\u001b[39m \u001b[38;5;28mself\u001b[39m\u001b[38;5;241m.\u001b[39mtol \u001b[38;5;129;01mis\u001b[39;00m \u001b[38;5;129;01mnot\u001b[39;00m \u001b[38;5;28;01mNone\u001b[39;00m \u001b[38;5;129;01mand\u001b[39;00m \u001b[38;5;28mself\u001b[39m\u001b[38;5;241m.\u001b[39mn_features_to_select \u001b[38;5;241m==\u001b[39m \u001b[38;5;124m\"\u001b[39m\u001b[38;5;124mauto\u001b[39m\u001b[38;5;124m\"\u001b[39m\n\u001b[0;32m    245\u001b[0m \u001b[38;5;28;01mfor\u001b[39;00m _ \u001b[38;5;129;01min\u001b[39;00m \u001b[38;5;28mrange\u001b[39m(n_iterations):\n\u001b[1;32m--> 246\u001b[0m     new_feature_idx, new_score \u001b[38;5;241m=\u001b[39m \u001b[38;5;28mself\u001b[39m\u001b[38;5;241m.\u001b[39m_get_best_new_feature_score(\n\u001b[0;32m    247\u001b[0m         cloned_estimator, X, y, cv, current_mask\n\u001b[0;32m    248\u001b[0m     )\n\u001b[0;32m    249\u001b[0m     \u001b[38;5;28;01mif\u001b[39;00m is_auto_select \u001b[38;5;129;01mand\u001b[39;00m ((new_score \u001b[38;5;241m-\u001b[39m old_score) \u001b[38;5;241m<\u001b[39m \u001b[38;5;28mself\u001b[39m\u001b[38;5;241m.\u001b[39mtol):\n\u001b[0;32m    250\u001b[0m         \u001b[38;5;28;01mbreak\u001b[39;00m\n",
      "File \u001b[1;32mC:\\ProgramData\\anaconda3\\Lib\\site-packages\\sklearn\\feature_selection\\_sequential.py:277\u001b[0m, in \u001b[0;36mSequentialFeatureSelector._get_best_new_feature_score\u001b[1;34m(self, estimator, X, y, cv, current_mask)\u001b[0m\n\u001b[0;32m    275\u001b[0m         candidate_mask \u001b[38;5;241m=\u001b[39m \u001b[38;5;241m~\u001b[39mcandidate_mask\n\u001b[0;32m    276\u001b[0m     X_new \u001b[38;5;241m=\u001b[39m X[:, candidate_mask]\n\u001b[1;32m--> 277\u001b[0m     scores[feature_idx] \u001b[38;5;241m=\u001b[39m cross_val_score(\n\u001b[0;32m    278\u001b[0m         estimator,\n\u001b[0;32m    279\u001b[0m         X_new,\n\u001b[0;32m    280\u001b[0m         y,\n\u001b[0;32m    281\u001b[0m         cv\u001b[38;5;241m=\u001b[39mcv,\n\u001b[0;32m    282\u001b[0m         scoring\u001b[38;5;241m=\u001b[39m\u001b[38;5;28mself\u001b[39m\u001b[38;5;241m.\u001b[39mscoring,\n\u001b[0;32m    283\u001b[0m         n_jobs\u001b[38;5;241m=\u001b[39m\u001b[38;5;28mself\u001b[39m\u001b[38;5;241m.\u001b[39mn_jobs,\n\u001b[0;32m    284\u001b[0m     )\u001b[38;5;241m.\u001b[39mmean()\n\u001b[0;32m    285\u001b[0m new_feature_idx \u001b[38;5;241m=\u001b[39m \u001b[38;5;28mmax\u001b[39m(scores, key\u001b[38;5;241m=\u001b[39m\u001b[38;5;28;01mlambda\u001b[39;00m feature_idx: scores[feature_idx])\n\u001b[0;32m    286\u001b[0m \u001b[38;5;28;01mreturn\u001b[39;00m new_feature_idx, scores[new_feature_idx]\n",
      "File \u001b[1;32mC:\\ProgramData\\anaconda3\\Lib\\site-packages\\sklearn\\model_selection\\_validation.py:562\u001b[0m, in \u001b[0;36mcross_val_score\u001b[1;34m(estimator, X, y, groups, scoring, cv, n_jobs, verbose, fit_params, pre_dispatch, error_score)\u001b[0m\n\u001b[0;32m    559\u001b[0m \u001b[38;5;66;03m# To ensure multimetric format is not supported\u001b[39;00m\n\u001b[0;32m    560\u001b[0m scorer \u001b[38;5;241m=\u001b[39m check_scoring(estimator, scoring\u001b[38;5;241m=\u001b[39mscoring)\n\u001b[1;32m--> 562\u001b[0m cv_results \u001b[38;5;241m=\u001b[39m cross_validate(\n\u001b[0;32m    563\u001b[0m     estimator\u001b[38;5;241m=\u001b[39mestimator,\n\u001b[0;32m    564\u001b[0m     X\u001b[38;5;241m=\u001b[39mX,\n\u001b[0;32m    565\u001b[0m     y\u001b[38;5;241m=\u001b[39my,\n\u001b[0;32m    566\u001b[0m     groups\u001b[38;5;241m=\u001b[39mgroups,\n\u001b[0;32m    567\u001b[0m     scoring\u001b[38;5;241m=\u001b[39m{\u001b[38;5;124m\"\u001b[39m\u001b[38;5;124mscore\u001b[39m\u001b[38;5;124m\"\u001b[39m: scorer},\n\u001b[0;32m    568\u001b[0m     cv\u001b[38;5;241m=\u001b[39mcv,\n\u001b[0;32m    569\u001b[0m     n_jobs\u001b[38;5;241m=\u001b[39mn_jobs,\n\u001b[0;32m    570\u001b[0m     verbose\u001b[38;5;241m=\u001b[39mverbose,\n\u001b[0;32m    571\u001b[0m     fit_params\u001b[38;5;241m=\u001b[39mfit_params,\n\u001b[0;32m    572\u001b[0m     pre_dispatch\u001b[38;5;241m=\u001b[39mpre_dispatch,\n\u001b[0;32m    573\u001b[0m     error_score\u001b[38;5;241m=\u001b[39merror_score,\n\u001b[0;32m    574\u001b[0m )\n\u001b[0;32m    575\u001b[0m \u001b[38;5;28;01mreturn\u001b[39;00m cv_results[\u001b[38;5;124m\"\u001b[39m\u001b[38;5;124mtest_score\u001b[39m\u001b[38;5;124m\"\u001b[39m]\n",
      "File \u001b[1;32mC:\\ProgramData\\anaconda3\\Lib\\site-packages\\sklearn\\utils\\_param_validation.py:211\u001b[0m, in \u001b[0;36mvalidate_params.<locals>.decorator.<locals>.wrapper\u001b[1;34m(*args, **kwargs)\u001b[0m\n\u001b[0;32m    205\u001b[0m \u001b[38;5;28;01mtry\u001b[39;00m:\n\u001b[0;32m    206\u001b[0m     \u001b[38;5;28;01mwith\u001b[39;00m config_context(\n\u001b[0;32m    207\u001b[0m         skip_parameter_validation\u001b[38;5;241m=\u001b[39m(\n\u001b[0;32m    208\u001b[0m             prefer_skip_nested_validation \u001b[38;5;129;01mor\u001b[39;00m global_skip_validation\n\u001b[0;32m    209\u001b[0m         )\n\u001b[0;32m    210\u001b[0m     ):\n\u001b[1;32m--> 211\u001b[0m         \u001b[38;5;28;01mreturn\u001b[39;00m func(\u001b[38;5;241m*\u001b[39margs, \u001b[38;5;241m*\u001b[39m\u001b[38;5;241m*\u001b[39mkwargs)\n\u001b[0;32m    212\u001b[0m \u001b[38;5;28;01mexcept\u001b[39;00m InvalidParameterError \u001b[38;5;28;01mas\u001b[39;00m e:\n\u001b[0;32m    213\u001b[0m     \u001b[38;5;66;03m# When the function is just a wrapper around an estimator, we allow\u001b[39;00m\n\u001b[0;32m    214\u001b[0m     \u001b[38;5;66;03m# the function to delegate validation to the estimator, but we replace\u001b[39;00m\n\u001b[0;32m    215\u001b[0m     \u001b[38;5;66;03m# the name of the estimator by the name of the function in the error\u001b[39;00m\n\u001b[0;32m    216\u001b[0m     \u001b[38;5;66;03m# message to avoid confusion.\u001b[39;00m\n\u001b[0;32m    217\u001b[0m     msg \u001b[38;5;241m=\u001b[39m re\u001b[38;5;241m.\u001b[39msub(\n\u001b[0;32m    218\u001b[0m         \u001b[38;5;124mr\u001b[39m\u001b[38;5;124m\"\u001b[39m\u001b[38;5;124mparameter of \u001b[39m\u001b[38;5;124m\\\u001b[39m\u001b[38;5;124mw+ must be\u001b[39m\u001b[38;5;124m\"\u001b[39m,\n\u001b[0;32m    219\u001b[0m         \u001b[38;5;124mf\u001b[39m\u001b[38;5;124m\"\u001b[39m\u001b[38;5;124mparameter of \u001b[39m\u001b[38;5;132;01m{\u001b[39;00mfunc\u001b[38;5;241m.\u001b[39m\u001b[38;5;18m__qualname__\u001b[39m\u001b[38;5;132;01m}\u001b[39;00m\u001b[38;5;124m must be\u001b[39m\u001b[38;5;124m\"\u001b[39m,\n\u001b[0;32m    220\u001b[0m         \u001b[38;5;28mstr\u001b[39m(e),\n\u001b[0;32m    221\u001b[0m     )\n",
      "File \u001b[1;32mC:\\ProgramData\\anaconda3\\Lib\\site-packages\\sklearn\\model_selection\\_validation.py:309\u001b[0m, in \u001b[0;36mcross_validate\u001b[1;34m(estimator, X, y, groups, scoring, cv, n_jobs, verbose, fit_params, pre_dispatch, return_train_score, return_estimator, return_indices, error_score)\u001b[0m\n\u001b[0;32m    306\u001b[0m \u001b[38;5;66;03m# We clone the estimator to make sure that all the folds are\u001b[39;00m\n\u001b[0;32m    307\u001b[0m \u001b[38;5;66;03m# independent, and that it is pickle-able.\u001b[39;00m\n\u001b[0;32m    308\u001b[0m parallel \u001b[38;5;241m=\u001b[39m Parallel(n_jobs\u001b[38;5;241m=\u001b[39mn_jobs, verbose\u001b[38;5;241m=\u001b[39mverbose, pre_dispatch\u001b[38;5;241m=\u001b[39mpre_dispatch)\n\u001b[1;32m--> 309\u001b[0m results \u001b[38;5;241m=\u001b[39m parallel(\n\u001b[0;32m    310\u001b[0m     delayed(_fit_and_score)(\n\u001b[0;32m    311\u001b[0m         clone(estimator),\n\u001b[0;32m    312\u001b[0m         X,\n\u001b[0;32m    313\u001b[0m         y,\n\u001b[0;32m    314\u001b[0m         scorers,\n\u001b[0;32m    315\u001b[0m         train,\n\u001b[0;32m    316\u001b[0m         test,\n\u001b[0;32m    317\u001b[0m         verbose,\n\u001b[0;32m    318\u001b[0m         \u001b[38;5;28;01mNone\u001b[39;00m,\n\u001b[0;32m    319\u001b[0m         fit_params,\n\u001b[0;32m    320\u001b[0m         return_train_score\u001b[38;5;241m=\u001b[39mreturn_train_score,\n\u001b[0;32m    321\u001b[0m         return_times\u001b[38;5;241m=\u001b[39m\u001b[38;5;28;01mTrue\u001b[39;00m,\n\u001b[0;32m    322\u001b[0m         return_estimator\u001b[38;5;241m=\u001b[39mreturn_estimator,\n\u001b[0;32m    323\u001b[0m         error_score\u001b[38;5;241m=\u001b[39merror_score,\n\u001b[0;32m    324\u001b[0m     )\n\u001b[0;32m    325\u001b[0m     \u001b[38;5;28;01mfor\u001b[39;00m train, test \u001b[38;5;129;01min\u001b[39;00m indices\n\u001b[0;32m    326\u001b[0m )\n\u001b[0;32m    328\u001b[0m _warn_or_raise_about_fit_failures(results, error_score)\n\u001b[0;32m    330\u001b[0m \u001b[38;5;66;03m# For callable scoring, the return type is only know after calling. If the\u001b[39;00m\n\u001b[0;32m    331\u001b[0m \u001b[38;5;66;03m# return type is a dictionary, the error scores can now be inserted with\u001b[39;00m\n\u001b[0;32m    332\u001b[0m \u001b[38;5;66;03m# the correct key.\u001b[39;00m\n",
      "File \u001b[1;32mC:\\ProgramData\\anaconda3\\Lib\\site-packages\\sklearn\\utils\\parallel.py:65\u001b[0m, in \u001b[0;36mParallel.__call__\u001b[1;34m(self, iterable)\u001b[0m\n\u001b[0;32m     60\u001b[0m config \u001b[38;5;241m=\u001b[39m get_config()\n\u001b[0;32m     61\u001b[0m iterable_with_config \u001b[38;5;241m=\u001b[39m (\n\u001b[0;32m     62\u001b[0m     (_with_config(delayed_func, config), args, kwargs)\n\u001b[0;32m     63\u001b[0m     \u001b[38;5;28;01mfor\u001b[39;00m delayed_func, args, kwargs \u001b[38;5;129;01min\u001b[39;00m iterable\n\u001b[0;32m     64\u001b[0m )\n\u001b[1;32m---> 65\u001b[0m \u001b[38;5;28;01mreturn\u001b[39;00m \u001b[38;5;28msuper\u001b[39m()\u001b[38;5;241m.\u001b[39m\u001b[38;5;21m__call__\u001b[39m(iterable_with_config)\n",
      "File \u001b[1;32mC:\\ProgramData\\anaconda3\\Lib\\site-packages\\joblib\\parallel.py:1085\u001b[0m, in \u001b[0;36mParallel.__call__\u001b[1;34m(self, iterable)\u001b[0m\n\u001b[0;32m   1076\u001b[0m \u001b[38;5;28;01mtry\u001b[39;00m:\n\u001b[0;32m   1077\u001b[0m     \u001b[38;5;66;03m# Only set self._iterating to True if at least a batch\u001b[39;00m\n\u001b[0;32m   1078\u001b[0m     \u001b[38;5;66;03m# was dispatched. In particular this covers the edge\u001b[39;00m\n\u001b[1;32m   (...)\u001b[0m\n\u001b[0;32m   1082\u001b[0m     \u001b[38;5;66;03m# was very quick and its callback already dispatched all the\u001b[39;00m\n\u001b[0;32m   1083\u001b[0m     \u001b[38;5;66;03m# remaining jobs.\u001b[39;00m\n\u001b[0;32m   1084\u001b[0m     \u001b[38;5;28mself\u001b[39m\u001b[38;5;241m.\u001b[39m_iterating \u001b[38;5;241m=\u001b[39m \u001b[38;5;28;01mFalse\u001b[39;00m\n\u001b[1;32m-> 1085\u001b[0m     \u001b[38;5;28;01mif\u001b[39;00m \u001b[38;5;28mself\u001b[39m\u001b[38;5;241m.\u001b[39mdispatch_one_batch(iterator):\n\u001b[0;32m   1086\u001b[0m         \u001b[38;5;28mself\u001b[39m\u001b[38;5;241m.\u001b[39m_iterating \u001b[38;5;241m=\u001b[39m \u001b[38;5;28mself\u001b[39m\u001b[38;5;241m.\u001b[39m_original_iterator \u001b[38;5;129;01mis\u001b[39;00m \u001b[38;5;129;01mnot\u001b[39;00m \u001b[38;5;28;01mNone\u001b[39;00m\n\u001b[0;32m   1088\u001b[0m     \u001b[38;5;28;01mwhile\u001b[39;00m \u001b[38;5;28mself\u001b[39m\u001b[38;5;241m.\u001b[39mdispatch_one_batch(iterator):\n",
      "File \u001b[1;32mC:\\ProgramData\\anaconda3\\Lib\\site-packages\\joblib\\parallel.py:901\u001b[0m, in \u001b[0;36mParallel.dispatch_one_batch\u001b[1;34m(self, iterator)\u001b[0m\n\u001b[0;32m    899\u001b[0m     \u001b[38;5;28;01mreturn\u001b[39;00m \u001b[38;5;28;01mFalse\u001b[39;00m\n\u001b[0;32m    900\u001b[0m \u001b[38;5;28;01melse\u001b[39;00m:\n\u001b[1;32m--> 901\u001b[0m     \u001b[38;5;28mself\u001b[39m\u001b[38;5;241m.\u001b[39m_dispatch(tasks)\n\u001b[0;32m    902\u001b[0m     \u001b[38;5;28;01mreturn\u001b[39;00m \u001b[38;5;28;01mTrue\u001b[39;00m\n",
      "File \u001b[1;32mC:\\ProgramData\\anaconda3\\Lib\\site-packages\\joblib\\parallel.py:819\u001b[0m, in \u001b[0;36mParallel._dispatch\u001b[1;34m(self, batch)\u001b[0m\n\u001b[0;32m    817\u001b[0m \u001b[38;5;28;01mwith\u001b[39;00m \u001b[38;5;28mself\u001b[39m\u001b[38;5;241m.\u001b[39m_lock:\n\u001b[0;32m    818\u001b[0m     job_idx \u001b[38;5;241m=\u001b[39m \u001b[38;5;28mlen\u001b[39m(\u001b[38;5;28mself\u001b[39m\u001b[38;5;241m.\u001b[39m_jobs)\n\u001b[1;32m--> 819\u001b[0m     job \u001b[38;5;241m=\u001b[39m \u001b[38;5;28mself\u001b[39m\u001b[38;5;241m.\u001b[39m_backend\u001b[38;5;241m.\u001b[39mapply_async(batch, callback\u001b[38;5;241m=\u001b[39mcb)\n\u001b[0;32m    820\u001b[0m     \u001b[38;5;66;03m# A job can complete so quickly than its callback is\u001b[39;00m\n\u001b[0;32m    821\u001b[0m     \u001b[38;5;66;03m# called before we get here, causing self._jobs to\u001b[39;00m\n\u001b[0;32m    822\u001b[0m     \u001b[38;5;66;03m# grow. To ensure correct results ordering, .insert is\u001b[39;00m\n\u001b[0;32m    823\u001b[0m     \u001b[38;5;66;03m# used (rather than .append) in the following line\u001b[39;00m\n\u001b[0;32m    824\u001b[0m     \u001b[38;5;28mself\u001b[39m\u001b[38;5;241m.\u001b[39m_jobs\u001b[38;5;241m.\u001b[39minsert(job_idx, job)\n",
      "File \u001b[1;32mC:\\ProgramData\\anaconda3\\Lib\\site-packages\\joblib\\_parallel_backends.py:208\u001b[0m, in \u001b[0;36mSequentialBackend.apply_async\u001b[1;34m(self, func, callback)\u001b[0m\n\u001b[0;32m    206\u001b[0m \u001b[38;5;28;01mdef\u001b[39;00m \u001b[38;5;21mapply_async\u001b[39m(\u001b[38;5;28mself\u001b[39m, func, callback\u001b[38;5;241m=\u001b[39m\u001b[38;5;28;01mNone\u001b[39;00m):\n\u001b[0;32m    207\u001b[0m \u001b[38;5;250m    \u001b[39m\u001b[38;5;124;03m\"\"\"Schedule a func to be run\"\"\"\u001b[39;00m\n\u001b[1;32m--> 208\u001b[0m     result \u001b[38;5;241m=\u001b[39m ImmediateResult(func)\n\u001b[0;32m    209\u001b[0m     \u001b[38;5;28;01mif\u001b[39;00m callback:\n\u001b[0;32m    210\u001b[0m         callback(result)\n",
      "File \u001b[1;32mC:\\ProgramData\\anaconda3\\Lib\\site-packages\\joblib\\_parallel_backends.py:597\u001b[0m, in \u001b[0;36mImmediateResult.__init__\u001b[1;34m(self, batch)\u001b[0m\n\u001b[0;32m    594\u001b[0m \u001b[38;5;28;01mdef\u001b[39;00m \u001b[38;5;21m__init__\u001b[39m(\u001b[38;5;28mself\u001b[39m, batch):\n\u001b[0;32m    595\u001b[0m     \u001b[38;5;66;03m# Don't delay the application, to avoid keeping the input\u001b[39;00m\n\u001b[0;32m    596\u001b[0m     \u001b[38;5;66;03m# arguments in memory\u001b[39;00m\n\u001b[1;32m--> 597\u001b[0m     \u001b[38;5;28mself\u001b[39m\u001b[38;5;241m.\u001b[39mresults \u001b[38;5;241m=\u001b[39m batch()\n",
      "File \u001b[1;32mC:\\ProgramData\\anaconda3\\Lib\\site-packages\\joblib\\parallel.py:288\u001b[0m, in \u001b[0;36mBatchedCalls.__call__\u001b[1;34m(self)\u001b[0m\n\u001b[0;32m    284\u001b[0m \u001b[38;5;28;01mdef\u001b[39;00m \u001b[38;5;21m__call__\u001b[39m(\u001b[38;5;28mself\u001b[39m):\n\u001b[0;32m    285\u001b[0m     \u001b[38;5;66;03m# Set the default nested backend to self._backend but do not set the\u001b[39;00m\n\u001b[0;32m    286\u001b[0m     \u001b[38;5;66;03m# change the default number of processes to -1\u001b[39;00m\n\u001b[0;32m    287\u001b[0m     \u001b[38;5;28;01mwith\u001b[39;00m parallel_backend(\u001b[38;5;28mself\u001b[39m\u001b[38;5;241m.\u001b[39m_backend, n_jobs\u001b[38;5;241m=\u001b[39m\u001b[38;5;28mself\u001b[39m\u001b[38;5;241m.\u001b[39m_n_jobs):\n\u001b[1;32m--> 288\u001b[0m         \u001b[38;5;28;01mreturn\u001b[39;00m [func(\u001b[38;5;241m*\u001b[39margs, \u001b[38;5;241m*\u001b[39m\u001b[38;5;241m*\u001b[39mkwargs)\n\u001b[0;32m    289\u001b[0m                 \u001b[38;5;28;01mfor\u001b[39;00m func, args, kwargs \u001b[38;5;129;01min\u001b[39;00m \u001b[38;5;28mself\u001b[39m\u001b[38;5;241m.\u001b[39mitems]\n",
      "File \u001b[1;32mC:\\ProgramData\\anaconda3\\Lib\\site-packages\\joblib\\parallel.py:288\u001b[0m, in \u001b[0;36m<listcomp>\u001b[1;34m(.0)\u001b[0m\n\u001b[0;32m    284\u001b[0m \u001b[38;5;28;01mdef\u001b[39;00m \u001b[38;5;21m__call__\u001b[39m(\u001b[38;5;28mself\u001b[39m):\n\u001b[0;32m    285\u001b[0m     \u001b[38;5;66;03m# Set the default nested backend to self._backend but do not set the\u001b[39;00m\n\u001b[0;32m    286\u001b[0m     \u001b[38;5;66;03m# change the default number of processes to -1\u001b[39;00m\n\u001b[0;32m    287\u001b[0m     \u001b[38;5;28;01mwith\u001b[39;00m parallel_backend(\u001b[38;5;28mself\u001b[39m\u001b[38;5;241m.\u001b[39m_backend, n_jobs\u001b[38;5;241m=\u001b[39m\u001b[38;5;28mself\u001b[39m\u001b[38;5;241m.\u001b[39m_n_jobs):\n\u001b[1;32m--> 288\u001b[0m         \u001b[38;5;28;01mreturn\u001b[39;00m [func(\u001b[38;5;241m*\u001b[39margs, \u001b[38;5;241m*\u001b[39m\u001b[38;5;241m*\u001b[39mkwargs)\n\u001b[0;32m    289\u001b[0m                 \u001b[38;5;28;01mfor\u001b[39;00m func, args, kwargs \u001b[38;5;129;01min\u001b[39;00m \u001b[38;5;28mself\u001b[39m\u001b[38;5;241m.\u001b[39mitems]\n",
      "File \u001b[1;32mC:\\ProgramData\\anaconda3\\Lib\\site-packages\\sklearn\\utils\\parallel.py:127\u001b[0m, in \u001b[0;36m_FuncWrapper.__call__\u001b[1;34m(self, *args, **kwargs)\u001b[0m\n\u001b[0;32m    125\u001b[0m     config \u001b[38;5;241m=\u001b[39m {}\n\u001b[0;32m    126\u001b[0m \u001b[38;5;28;01mwith\u001b[39;00m config_context(\u001b[38;5;241m*\u001b[39m\u001b[38;5;241m*\u001b[39mconfig):\n\u001b[1;32m--> 127\u001b[0m     \u001b[38;5;28;01mreturn\u001b[39;00m \u001b[38;5;28mself\u001b[39m\u001b[38;5;241m.\u001b[39mfunction(\u001b[38;5;241m*\u001b[39margs, \u001b[38;5;241m*\u001b[39m\u001b[38;5;241m*\u001b[39mkwargs)\n",
      "File \u001b[1;32mC:\\ProgramData\\anaconda3\\Lib\\site-packages\\sklearn\\model_selection\\_validation.py:754\u001b[0m, in \u001b[0;36m_fit_and_score\u001b[1;34m(estimator, X, y, scorer, train, test, verbose, parameters, fit_params, return_train_score, return_parameters, return_n_test_samples, return_times, return_estimator, split_progress, candidate_progress, error_score)\u001b[0m\n\u001b[0;32m    751\u001b[0m result[\u001b[38;5;124m\"\u001b[39m\u001b[38;5;124mfit_error\u001b[39m\u001b[38;5;124m\"\u001b[39m] \u001b[38;5;241m=\u001b[39m \u001b[38;5;28;01mNone\u001b[39;00m\n\u001b[0;32m    753\u001b[0m fit_time \u001b[38;5;241m=\u001b[39m time\u001b[38;5;241m.\u001b[39mtime() \u001b[38;5;241m-\u001b[39m start_time\n\u001b[1;32m--> 754\u001b[0m test_scores \u001b[38;5;241m=\u001b[39m _score(estimator, X_test, y_test, scorer, error_score)\n\u001b[0;32m    755\u001b[0m score_time \u001b[38;5;241m=\u001b[39m time\u001b[38;5;241m.\u001b[39mtime() \u001b[38;5;241m-\u001b[39m start_time \u001b[38;5;241m-\u001b[39m fit_time\n\u001b[0;32m    756\u001b[0m \u001b[38;5;28;01mif\u001b[39;00m return_train_score:\n",
      "File \u001b[1;32mC:\\ProgramData\\anaconda3\\Lib\\site-packages\\sklearn\\model_selection\\_validation.py:813\u001b[0m, in \u001b[0;36m_score\u001b[1;34m(estimator, X_test, y_test, scorer, error_score)\u001b[0m\n\u001b[0;32m    811\u001b[0m         scores \u001b[38;5;241m=\u001b[39m scorer(estimator, X_test)\n\u001b[0;32m    812\u001b[0m     \u001b[38;5;28;01melse\u001b[39;00m:\n\u001b[1;32m--> 813\u001b[0m         scores \u001b[38;5;241m=\u001b[39m scorer(estimator, X_test, y_test)\n\u001b[0;32m    814\u001b[0m \u001b[38;5;28;01mexcept\u001b[39;00m \u001b[38;5;167;01mException\u001b[39;00m:\n\u001b[0;32m    815\u001b[0m     \u001b[38;5;28;01mif\u001b[39;00m \u001b[38;5;28misinstance\u001b[39m(scorer, _MultimetricScorer):\n\u001b[0;32m    816\u001b[0m         \u001b[38;5;66;03m# If `_MultimetricScorer` raises exception, the `error_score`\u001b[39;00m\n\u001b[0;32m    817\u001b[0m         \u001b[38;5;66;03m# parameter is equal to \"raise\".\u001b[39;00m\n",
      "File \u001b[1;32mC:\\ProgramData\\anaconda3\\Lib\\site-packages\\sklearn\\metrics\\_scorer.py:140\u001b[0m, in \u001b[0;36m_MultimetricScorer.__call__\u001b[1;34m(self, estimator, *args, **kwargs)\u001b[0m\n\u001b[0;32m    136\u001b[0m         score \u001b[38;5;241m=\u001b[39m scorer\u001b[38;5;241m.\u001b[39m_score(\n\u001b[0;32m    137\u001b[0m             cached_call, estimator, \u001b[38;5;241m*\u001b[39margs, \u001b[38;5;241m*\u001b[39m\u001b[38;5;241m*\u001b[39mrouted_params\u001b[38;5;241m.\u001b[39mget(name)\u001b[38;5;241m.\u001b[39mscore\n\u001b[0;32m    138\u001b[0m         )\n\u001b[0;32m    139\u001b[0m     \u001b[38;5;28;01melse\u001b[39;00m:\n\u001b[1;32m--> 140\u001b[0m         score \u001b[38;5;241m=\u001b[39m scorer(estimator, \u001b[38;5;241m*\u001b[39margs, \u001b[38;5;241m*\u001b[39m\u001b[38;5;241m*\u001b[39mrouted_params\u001b[38;5;241m.\u001b[39mget(name)\u001b[38;5;241m.\u001b[39mscore)\n\u001b[0;32m    141\u001b[0m     scores[name] \u001b[38;5;241m=\u001b[39m score\n\u001b[0;32m    142\u001b[0m \u001b[38;5;28;01mexcept\u001b[39;00m \u001b[38;5;167;01mException\u001b[39;00m \u001b[38;5;28;01mas\u001b[39;00m e:\n",
      "File \u001b[1;32mC:\\ProgramData\\anaconda3\\Lib\\site-packages\\sklearn\\metrics\\_scorer.py:527\u001b[0m, in \u001b[0;36m_PassthroughScorer.__call__\u001b[1;34m(self, estimator, *args, **kwargs)\u001b[0m\n\u001b[0;32m    525\u001b[0m \u001b[38;5;28;01mdef\u001b[39;00m \u001b[38;5;21m__call__\u001b[39m(\u001b[38;5;28mself\u001b[39m, estimator, \u001b[38;5;241m*\u001b[39margs, \u001b[38;5;241m*\u001b[39m\u001b[38;5;241m*\u001b[39mkwargs):\n\u001b[0;32m    526\u001b[0m \u001b[38;5;250m    \u001b[39m\u001b[38;5;124;03m\"\"\"Method that wraps estimator.score\"\"\"\u001b[39;00m\n\u001b[1;32m--> 527\u001b[0m     \u001b[38;5;28;01mreturn\u001b[39;00m estimator\u001b[38;5;241m.\u001b[39mscore(\u001b[38;5;241m*\u001b[39margs, \u001b[38;5;241m*\u001b[39m\u001b[38;5;241m*\u001b[39mkwargs)\n",
      "File \u001b[1;32mC:\\ProgramData\\anaconda3\\Lib\\site-packages\\sklearn\\base.py:759\u001b[0m, in \u001b[0;36mRegressorMixin.score\u001b[1;34m(self, X, y, sample_weight)\u001b[0m\n\u001b[0;32m    717\u001b[0m \u001b[38;5;250m\u001b[39m\u001b[38;5;124;03m\"\"\"Return the coefficient of determination of the prediction.\u001b[39;00m\n\u001b[0;32m    718\u001b[0m \n\u001b[0;32m    719\u001b[0m \u001b[38;5;124;03mThe coefficient of determination :math:`R^2` is defined as\u001b[39;00m\n\u001b[1;32m   (...)\u001b[0m\n\u001b[0;32m    754\u001b[0m \u001b[38;5;124;03m:class:`~sklearn.multioutput.MultiOutputRegressor`).\u001b[39;00m\n\u001b[0;32m    755\u001b[0m \u001b[38;5;124;03m\"\"\"\u001b[39;00m\n\u001b[0;32m    757\u001b[0m \u001b[38;5;28;01mfrom\u001b[39;00m \u001b[38;5;21;01m.\u001b[39;00m\u001b[38;5;21;01mmetrics\u001b[39;00m \u001b[38;5;28;01mimport\u001b[39;00m r2_score\n\u001b[1;32m--> 759\u001b[0m y_pred \u001b[38;5;241m=\u001b[39m \u001b[38;5;28mself\u001b[39m\u001b[38;5;241m.\u001b[39mpredict(X)\n\u001b[0;32m    760\u001b[0m \u001b[38;5;28;01mreturn\u001b[39;00m r2_score(y, y_pred, sample_weight\u001b[38;5;241m=\u001b[39msample_weight)\n",
      "File \u001b[1;32mC:\\ProgramData\\anaconda3\\Lib\\site-packages\\sklearn\\linear_model\\_base.py:386\u001b[0m, in \u001b[0;36mLinearModel.predict\u001b[1;34m(self, X)\u001b[0m\n\u001b[0;32m    372\u001b[0m \u001b[38;5;28;01mdef\u001b[39;00m \u001b[38;5;21mpredict\u001b[39m(\u001b[38;5;28mself\u001b[39m, X):\n\u001b[0;32m    373\u001b[0m \u001b[38;5;250m    \u001b[39m\u001b[38;5;124;03m\"\"\"\u001b[39;00m\n\u001b[0;32m    374\u001b[0m \u001b[38;5;124;03m    Predict using the linear model.\u001b[39;00m\n\u001b[0;32m    375\u001b[0m \n\u001b[1;32m   (...)\u001b[0m\n\u001b[0;32m    384\u001b[0m \u001b[38;5;124;03m        Returns predicted values.\u001b[39;00m\n\u001b[0;32m    385\u001b[0m \u001b[38;5;124;03m    \"\"\"\u001b[39;00m\n\u001b[1;32m--> 386\u001b[0m     \u001b[38;5;28;01mreturn\u001b[39;00m \u001b[38;5;28mself\u001b[39m\u001b[38;5;241m.\u001b[39m_decision_function(X)\n",
      "File \u001b[1;32mC:\\ProgramData\\anaconda3\\Lib\\site-packages\\sklearn\\linear_model\\_base.py:369\u001b[0m, in \u001b[0;36mLinearModel._decision_function\u001b[1;34m(self, X)\u001b[0m\n\u001b[0;32m    366\u001b[0m \u001b[38;5;28;01mdef\u001b[39;00m \u001b[38;5;21m_decision_function\u001b[39m(\u001b[38;5;28mself\u001b[39m, X):\n\u001b[0;32m    367\u001b[0m     check_is_fitted(\u001b[38;5;28mself\u001b[39m)\n\u001b[1;32m--> 369\u001b[0m     X \u001b[38;5;241m=\u001b[39m \u001b[38;5;28mself\u001b[39m\u001b[38;5;241m.\u001b[39m_validate_data(X, accept_sparse\u001b[38;5;241m=\u001b[39m[\u001b[38;5;124m\"\u001b[39m\u001b[38;5;124mcsr\u001b[39m\u001b[38;5;124m\"\u001b[39m, \u001b[38;5;124m\"\u001b[39m\u001b[38;5;124mcsc\u001b[39m\u001b[38;5;124m\"\u001b[39m, \u001b[38;5;124m\"\u001b[39m\u001b[38;5;124mcoo\u001b[39m\u001b[38;5;124m\"\u001b[39m], reset\u001b[38;5;241m=\u001b[39m\u001b[38;5;28;01mFalse\u001b[39;00m)\n\u001b[0;32m    370\u001b[0m     \u001b[38;5;28;01mreturn\u001b[39;00m safe_sparse_dot(X, \u001b[38;5;28mself\u001b[39m\u001b[38;5;241m.\u001b[39mcoef_\u001b[38;5;241m.\u001b[39mT, dense_output\u001b[38;5;241m=\u001b[39m\u001b[38;5;28;01mTrue\u001b[39;00m) \u001b[38;5;241m+\u001b[39m \u001b[38;5;28mself\u001b[39m\u001b[38;5;241m.\u001b[39mintercept_\n",
      "File \u001b[1;32mC:\\ProgramData\\anaconda3\\Lib\\site-packages\\sklearn\\base.py:604\u001b[0m, in \u001b[0;36mBaseEstimator._validate_data\u001b[1;34m(self, X, y, reset, validate_separately, cast_to_ndarray, **check_params)\u001b[0m\n\u001b[0;32m    602\u001b[0m         out \u001b[38;5;241m=\u001b[39m X, y\n\u001b[0;32m    603\u001b[0m \u001b[38;5;28;01melif\u001b[39;00m \u001b[38;5;129;01mnot\u001b[39;00m no_val_X \u001b[38;5;129;01mand\u001b[39;00m no_val_y:\n\u001b[1;32m--> 604\u001b[0m     out \u001b[38;5;241m=\u001b[39m check_array(X, input_name\u001b[38;5;241m=\u001b[39m\u001b[38;5;124m\"\u001b[39m\u001b[38;5;124mX\u001b[39m\u001b[38;5;124m\"\u001b[39m, \u001b[38;5;241m*\u001b[39m\u001b[38;5;241m*\u001b[39mcheck_params)\n\u001b[0;32m    605\u001b[0m \u001b[38;5;28;01melif\u001b[39;00m no_val_X \u001b[38;5;129;01mand\u001b[39;00m \u001b[38;5;129;01mnot\u001b[39;00m no_val_y:\n\u001b[0;32m    606\u001b[0m     out \u001b[38;5;241m=\u001b[39m _check_y(y, \u001b[38;5;241m*\u001b[39m\u001b[38;5;241m*\u001b[39mcheck_params)\n",
      "File \u001b[1;32mC:\\ProgramData\\anaconda3\\Lib\\site-packages\\sklearn\\utils\\validation.py:959\u001b[0m, in \u001b[0;36mcheck_array\u001b[1;34m(array, accept_sparse, accept_large_sparse, dtype, order, copy, force_all_finite, ensure_2d, allow_nd, ensure_min_samples, ensure_min_features, estimator, input_name)\u001b[0m\n\u001b[0;32m    953\u001b[0m         \u001b[38;5;28;01mraise\u001b[39;00m \u001b[38;5;167;01mValueError\u001b[39;00m(\n\u001b[0;32m    954\u001b[0m             \u001b[38;5;124m\"\u001b[39m\u001b[38;5;124mFound array with dim \u001b[39m\u001b[38;5;132;01m%d\u001b[39;00m\u001b[38;5;124m. \u001b[39m\u001b[38;5;132;01m%s\u001b[39;00m\u001b[38;5;124m expected <= 2.\u001b[39m\u001b[38;5;124m\"\u001b[39m\n\u001b[0;32m    955\u001b[0m             \u001b[38;5;241m%\u001b[39m (array\u001b[38;5;241m.\u001b[39mndim, estimator_name)\n\u001b[0;32m    956\u001b[0m         )\n\u001b[0;32m    958\u001b[0m     \u001b[38;5;28;01mif\u001b[39;00m force_all_finite:\n\u001b[1;32m--> 959\u001b[0m         _assert_all_finite(\n\u001b[0;32m    960\u001b[0m             array,\n\u001b[0;32m    961\u001b[0m             input_name\u001b[38;5;241m=\u001b[39minput_name,\n\u001b[0;32m    962\u001b[0m             estimator_name\u001b[38;5;241m=\u001b[39mestimator_name,\n\u001b[0;32m    963\u001b[0m             allow_nan\u001b[38;5;241m=\u001b[39mforce_all_finite \u001b[38;5;241m==\u001b[39m \u001b[38;5;124m\"\u001b[39m\u001b[38;5;124mallow-nan\u001b[39m\u001b[38;5;124m\"\u001b[39m,\n\u001b[0;32m    964\u001b[0m         )\n\u001b[0;32m    966\u001b[0m \u001b[38;5;28;01mif\u001b[39;00m ensure_min_samples \u001b[38;5;241m>\u001b[39m \u001b[38;5;241m0\u001b[39m:\n\u001b[0;32m    967\u001b[0m     n_samples \u001b[38;5;241m=\u001b[39m _num_samples(array)\n",
      "File \u001b[1;32mC:\\ProgramData\\anaconda3\\Lib\\site-packages\\sklearn\\utils\\validation.py:120\u001b[0m, in \u001b[0;36m_assert_all_finite\u001b[1;34m(X, allow_nan, msg_dtype, estimator_name, input_name)\u001b[0m\n\u001b[0;32m    115\u001b[0m \u001b[38;5;66;03m# First try an O(n) time, O(1) space solution for the common case that\u001b[39;00m\n\u001b[0;32m    116\u001b[0m \u001b[38;5;66;03m# everything is finite; fall back to O(n) space `np.isinf/isnan` or custom\u001b[39;00m\n\u001b[0;32m    117\u001b[0m \u001b[38;5;66;03m# Cython implementation to prevent false positives and provide a detailed\u001b[39;00m\n\u001b[0;32m    118\u001b[0m \u001b[38;5;66;03m# error message.\u001b[39;00m\n\u001b[0;32m    119\u001b[0m \u001b[38;5;28;01mwith\u001b[39;00m np\u001b[38;5;241m.\u001b[39merrstate(over\u001b[38;5;241m=\u001b[39m\u001b[38;5;124m\"\u001b[39m\u001b[38;5;124mignore\u001b[39m\u001b[38;5;124m\"\u001b[39m):\n\u001b[1;32m--> 120\u001b[0m     first_pass_isfinite \u001b[38;5;241m=\u001b[39m xp\u001b[38;5;241m.\u001b[39misfinite(xp\u001b[38;5;241m.\u001b[39msum(X))\n\u001b[0;32m    121\u001b[0m \u001b[38;5;28;01mif\u001b[39;00m first_pass_isfinite:\n\u001b[0;32m    122\u001b[0m     \u001b[38;5;28;01mreturn\u001b[39;00m\n",
      "File \u001b[1;32m<__array_function__ internals>:200\u001b[0m, in \u001b[0;36msum\u001b[1;34m(*args, **kwargs)\u001b[0m\n",
      "File \u001b[1;32mC:\\ProgramData\\anaconda3\\Lib\\site-packages\\numpy\\core\\fromnumeric.py:2324\u001b[0m, in \u001b[0;36msum\u001b[1;34m(a, axis, dtype, out, keepdims, initial, where)\u001b[0m\n\u001b[0;32m   2321\u001b[0m         \u001b[38;5;28;01mreturn\u001b[39;00m out\n\u001b[0;32m   2322\u001b[0m     \u001b[38;5;28;01mreturn\u001b[39;00m res\n\u001b[1;32m-> 2324\u001b[0m \u001b[38;5;28;01mreturn\u001b[39;00m _wrapreduction(a, np\u001b[38;5;241m.\u001b[39madd, \u001b[38;5;124m'\u001b[39m\u001b[38;5;124msum\u001b[39m\u001b[38;5;124m'\u001b[39m, axis, dtype, out, keepdims\u001b[38;5;241m=\u001b[39mkeepdims,\n\u001b[0;32m   2325\u001b[0m                       initial\u001b[38;5;241m=\u001b[39minitial, where\u001b[38;5;241m=\u001b[39mwhere)\n",
      "File \u001b[1;32mC:\\ProgramData\\anaconda3\\Lib\\site-packages\\numpy\\core\\fromnumeric.py:86\u001b[0m, in \u001b[0;36m_wrapreduction\u001b[1;34m(obj, ufunc, method, axis, dtype, out, **kwargs)\u001b[0m\n\u001b[0;32m     83\u001b[0m         \u001b[38;5;28;01melse\u001b[39;00m:\n\u001b[0;32m     84\u001b[0m             \u001b[38;5;28;01mreturn\u001b[39;00m reduction(axis\u001b[38;5;241m=\u001b[39maxis, out\u001b[38;5;241m=\u001b[39mout, \u001b[38;5;241m*\u001b[39m\u001b[38;5;241m*\u001b[39mpasskwargs)\n\u001b[1;32m---> 86\u001b[0m \u001b[38;5;28;01mreturn\u001b[39;00m ufunc\u001b[38;5;241m.\u001b[39mreduce(obj, axis, dtype, out, \u001b[38;5;241m*\u001b[39m\u001b[38;5;241m*\u001b[39mpasskwargs)\n",
      "\u001b[1;31mKeyboardInterrupt\u001b[0m: "
     ]
    }
   ],
   "source": [
    "forward_model_lead7 = getStepwiseKFeatures(30, 'forward', X_train_lead7, y_train_lead7, X_test_lead7, y_test_lead7)"
   ]
  },
  {
   "cell_type": "code",
   "execution_count": 36,
   "id": "f89444b9",
   "metadata": {},
   "outputs": [],
   "source": [
    "forward_model_lead30 = getStepwiseKFeatures(30, 'forward', X_train_lead30, y_train_lead30, X_test_lead30, y_test_lead30)"
   ]
  },
  {
   "cell_type": "code",
   "execution_count": 37,
   "id": "9277d255",
   "metadata": {},
   "outputs": [],
   "source": [
    "forward_model_lead180 = getStepwiseKFeatures(30, 'forward', X_train_lead180, y_train_lead180, X_test_lead180, y_test_lead180)"
   ]
  },
  {
   "cell_type": "code",
   "execution_count": 38,
   "id": "749042bf",
   "metadata": {},
   "outputs": [],
   "source": [
    "forward_model_lead360 = getStepwiseKFeatures(30, 'forward', X_train_lead360, y_train_lead360, X_test_lead360, y_test_lead360)"
   ]
  },
  {
   "cell_type": "markdown",
   "id": "1f39d470",
   "metadata": {},
   "source": []
  },
  {
   "cell_type": "markdown",
   "id": "2bc26a6c",
   "metadata": {},
   "source": [
    "## Evaluating Models on Evaluation Set\n",
    "\n",
    "Models:\n",
    "- Lasso (7,30,180,360)\n",
    "- Ridge (7,30,180,360)\n",
    "- ElasticNet (7,30,180,360)\n",
    "- forward_model_lead7\n",
    "- forward_model_lead30\n",
    "- forward_model_lead180\n",
    "- forward_model_lead360\n"
   ]
  },
  {
   "cell_type": "code",
   "execution_count": 39,
   "id": "69e061f8",
   "metadata": {},
   "outputs": [],
   "source": [
    "lasso_lead_7_model = lasso_results['lasso_lead7']\n",
    "lasso_lead_30_model = lasso_results['lasso_lead30']\n",
    "lasso_lead_180_model = lasso_results['lasso_lead180']\n",
    "lasso_lead_360_model = lasso_results['lasso_lead360']"
   ]
  },
  {
   "cell_type": "code",
   "execution_count": 40,
   "id": "47bcf779",
   "metadata": {},
   "outputs": [],
   "source": [
    "ridge_lead_7_model = ridge_results['ridge_lead7']\n",
    "ridge_lead_30_model = ridge_results['ridge_lead30']\n",
    "ridge_lead_180_model = ridge_results['ridge_lead180']\n",
    "ridge_lead_360_model = ridge_results['ridge_lead360']"
   ]
  },
  {
   "cell_type": "code",
   "execution_count": 41,
   "id": "4c104b0b",
   "metadata": {},
   "outputs": [],
   "source": [
    "elastic_net_lead_7_model = elastic_net_model_results['Elastic Net_lead7']\n",
    "elastic_net_lead_30_model = elastic_net_model_results['Elastic Net_lead30']\n",
    "elastic_net_lead_180_model = elastic_net_model_results['Elastic Net_lead180']\n",
    "elastic_net_lead_360_model = elastic_net_model_results['Elastic Net_lead360']"
   ]
  },
  {
   "cell_type": "code",
   "execution_count": 42,
   "id": "046b9127",
   "metadata": {},
   "outputs": [],
   "source": [
    "for_mod_lead7 = forward_model_lead7['model']\n",
    "for_mod_lead30 = forward_model_lead30['model']\n",
    "for_mod_lead180 = forward_model_lead180['model']\n",
    "for_mod_lead360 = forward_model_lead360['model']\n"
   ]
  },
  {
   "cell_type": "code",
   "execution_count": 43,
   "id": "f336fed5",
   "metadata": {},
   "outputs": [
    {
     "data": {
      "text/html": [
       "<div>\n",
       "<style scoped>\n",
       "    .dataframe tbody tr th:only-of-type {\n",
       "        vertical-align: middle;\n",
       "    }\n",
       "\n",
       "    .dataframe tbody tr th {\n",
       "        vertical-align: top;\n",
       "    }\n",
       "\n",
       "    .dataframe thead th {\n",
       "        text-align: right;\n",
       "    }\n",
       "</style>\n",
       "<table border=\"1\" class=\"dataframe\">\n",
       "  <thead>\n",
       "    <tr style=\"text-align: right;\">\n",
       "      <th></th>\n",
       "      <th>Lag0Gold</th>\n",
       "      <th>Lag1Gold</th>\n",
       "      <th>Lag2Gold</th>\n",
       "      <th>Lag3Gold</th>\n",
       "      <th>Lag4Gold</th>\n",
       "      <th>Lag5Gold</th>\n",
       "      <th>Lag6Gold</th>\n",
       "      <th>Lag7Gold</th>\n",
       "      <th>Lag14Gold</th>\n",
       "      <th>Lag30Gold</th>\n",
       "      <th>...</th>\n",
       "      <th>BollM_squared</th>\n",
       "      <th>BollM_cubed</th>\n",
       "      <th>BollL_squared</th>\n",
       "      <th>BollL_cubed</th>\n",
       "      <th>BollW_squared</th>\n",
       "      <th>BollW_cubed</th>\n",
       "      <th>BollPerc_squared</th>\n",
       "      <th>BollPerc_cubed</th>\n",
       "      <th>DaysSince18Nov04_squared</th>\n",
       "      <th>DaysSince18Nov04_cubed</th>\n",
       "    </tr>\n",
       "  </thead>\n",
       "  <tbody>\n",
       "    <tr>\n",
       "      <th>0</th>\n",
       "      <td>-2.342917</td>\n",
       "      <td>-2.337728</td>\n",
       "      <td>-2.585561</td>\n",
       "      <td>-2.429316</td>\n",
       "      <td>-2.435208</td>\n",
       "      <td>-2.478414</td>\n",
       "      <td>-2.462343</td>\n",
       "      <td>-2.456081</td>\n",
       "      <td>-2.276817</td>\n",
       "      <td>-2.345114</td>\n",
       "      <td>...</td>\n",
       "      <td>-2.362072</td>\n",
       "      <td>-2.234230</td>\n",
       "      <td>-2.232521</td>\n",
       "      <td>-2.125541</td>\n",
       "      <td>-0.687150</td>\n",
       "      <td>-0.498963</td>\n",
       "      <td>1.593530</td>\n",
       "      <td>1.612968</td>\n",
       "      <td>-1.666053</td>\n",
       "      <td>-1.603238</td>\n",
       "    </tr>\n",
       "    <tr>\n",
       "      <th>1</th>\n",
       "      <td>-2.342917</td>\n",
       "      <td>-2.337728</td>\n",
       "      <td>-2.331815</td>\n",
       "      <td>-2.579815</td>\n",
       "      <td>-2.423256</td>\n",
       "      <td>-2.428862</td>\n",
       "      <td>-2.472096</td>\n",
       "      <td>-2.456081</td>\n",
       "      <td>-2.276817</td>\n",
       "      <td>-2.527767</td>\n",
       "      <td>...</td>\n",
       "      <td>-2.362072</td>\n",
       "      <td>-2.234230</td>\n",
       "      <td>-2.232521</td>\n",
       "      <td>-2.125541</td>\n",
       "      <td>-0.687150</td>\n",
       "      <td>-0.498963</td>\n",
       "      <td>1.593530</td>\n",
       "      <td>1.612968</td>\n",
       "      <td>-1.663761</td>\n",
       "      <td>-1.601208</td>\n",
       "    </tr>\n",
       "    <tr>\n",
       "      <th>2</th>\n",
       "      <td>-2.171958</td>\n",
       "      <td>-2.337728</td>\n",
       "      <td>-2.331815</td>\n",
       "      <td>-2.326324</td>\n",
       "      <td>-2.573566</td>\n",
       "      <td>-2.416926</td>\n",
       "      <td>-2.422609</td>\n",
       "      <td>-2.465821</td>\n",
       "      <td>-2.362302</td>\n",
       "      <td>-2.527767</td>\n",
       "      <td>...</td>\n",
       "      <td>-2.342248</td>\n",
       "      <td>-2.217860</td>\n",
       "      <td>-2.252699</td>\n",
       "      <td>-2.142396</td>\n",
       "      <td>-0.550463</td>\n",
       "      <td>-0.447623</td>\n",
       "      <td>2.944946</td>\n",
       "      <td>3.658671</td>\n",
       "      <td>-1.661468</td>\n",
       "      <td>-1.599177</td>\n",
       "    </tr>\n",
       "    <tr>\n",
       "      <th>3</th>\n",
       "      <td>-2.171958</td>\n",
       "      <td>-2.166926</td>\n",
       "      <td>-2.331815</td>\n",
       "      <td>-2.326324</td>\n",
       "      <td>-2.320393</td>\n",
       "      <td>-2.567030</td>\n",
       "      <td>-2.410689</td>\n",
       "      <td>-2.416400</td>\n",
       "      <td>-2.378040</td>\n",
       "      <td>-2.527767</td>\n",
       "      <td>...</td>\n",
       "      <td>-2.319768</td>\n",
       "      <td>-2.199250</td>\n",
       "      <td>-2.246420</td>\n",
       "      <td>-2.137155</td>\n",
       "      <td>-0.485613</td>\n",
       "      <td>-0.419398</td>\n",
       "      <td>2.227096</td>\n",
       "      <td>2.520857</td>\n",
       "      <td>-1.659175</td>\n",
       "      <td>-1.597145</td>\n",
       "    </tr>\n",
       "    <tr>\n",
       "      <th>4</th>\n",
       "      <td>-1.875143</td>\n",
       "      <td>-2.166926</td>\n",
       "      <td>-2.161199</td>\n",
       "      <td>-2.326324</td>\n",
       "      <td>-2.320393</td>\n",
       "      <td>-2.314203</td>\n",
       "      <td>-2.560593</td>\n",
       "      <td>-2.404496</td>\n",
       "      <td>-2.368025</td>\n",
       "      <td>-2.448096</td>\n",
       "      <td>...</td>\n",
       "      <td>-2.289861</td>\n",
       "      <td>-2.174418</td>\n",
       "      <td>-2.307500</td>\n",
       "      <td>-2.187977</td>\n",
       "      <td>-0.033062</td>\n",
       "      <td>-0.167738</td>\n",
       "      <td>3.456726</td>\n",
       "      <td>4.534856</td>\n",
       "      <td>-1.656882</td>\n",
       "      <td>-1.595113</td>\n",
       "    </tr>\n",
       "    <tr>\n",
       "      <th>...</th>\n",
       "      <td>...</td>\n",
       "      <td>...</td>\n",
       "      <td>...</td>\n",
       "      <td>...</td>\n",
       "      <td>...</td>\n",
       "      <td>...</td>\n",
       "      <td>...</td>\n",
       "      <td>...</td>\n",
       "      <td>...</td>\n",
       "      <td>...</td>\n",
       "      <td>...</td>\n",
       "      <td>...</td>\n",
       "      <td>...</td>\n",
       "      <td>...</td>\n",
       "      <td>...</td>\n",
       "      <td>...</td>\n",
       "      <td>...</td>\n",
       "      <td>...</td>\n",
       "      <td>...</td>\n",
       "      <td>...</td>\n",
       "      <td>...</td>\n",
       "    </tr>\n",
       "    <tr>\n",
       "      <th>1338</th>\n",
       "      <td>1.570597</td>\n",
       "      <td>1.572182</td>\n",
       "      <td>1.573848</td>\n",
       "      <td>1.474591</td>\n",
       "      <td>1.469948</td>\n",
       "      <td>1.455407</td>\n",
       "      <td>1.336549</td>\n",
       "      <td>1.680846</td>\n",
       "      <td>1.460201</td>\n",
       "      <td>0.620827</td>\n",
       "      <td>...</td>\n",
       "      <td>1.264971</td>\n",
       "      <td>1.318824</td>\n",
       "      <td>0.831425</td>\n",
       "      <td>0.839979</td>\n",
       "      <td>1.665491</td>\n",
       "      <td>1.357068</td>\n",
       "      <td>0.421119</td>\n",
       "      <td>0.209660</td>\n",
       "      <td>1.782591</td>\n",
       "      <td>1.845604</td>\n",
       "    </tr>\n",
       "    <tr>\n",
       "      <th>1339</th>\n",
       "      <td>1.596786</td>\n",
       "      <td>1.572182</td>\n",
       "      <td>1.573848</td>\n",
       "      <td>1.575407</td>\n",
       "      <td>1.475743</td>\n",
       "      <td>1.470960</td>\n",
       "      <td>1.456472</td>\n",
       "      <td>1.337786</td>\n",
       "      <td>1.512064</td>\n",
       "      <td>0.620827</td>\n",
       "      <td>...</td>\n",
       "      <td>1.320445</td>\n",
       "      <td>1.381033</td>\n",
       "      <td>0.909107</td>\n",
       "      <td>0.924753</td>\n",
       "      <td>1.524482</td>\n",
       "      <td>1.203067</td>\n",
       "      <td>0.388122</td>\n",
       "      <td>0.176130</td>\n",
       "      <td>1.785454</td>\n",
       "      <td>1.848771</td>\n",
       "    </tr>\n",
       "    <tr>\n",
       "      <th>1340</th>\n",
       "      <td>1.788115</td>\n",
       "      <td>1.598348</td>\n",
       "      <td>1.573848</td>\n",
       "      <td>1.575407</td>\n",
       "      <td>1.576433</td>\n",
       "      <td>1.476747</td>\n",
       "      <td>1.472004</td>\n",
       "      <td>1.457550</td>\n",
       "      <td>1.391527</td>\n",
       "      <td>0.620827</td>\n",
       "      <td>...</td>\n",
       "      <td>1.396395</td>\n",
       "      <td>1.466556</td>\n",
       "      <td>1.034540</td>\n",
       "      <td>1.062557</td>\n",
       "      <td>1.243179</td>\n",
       "      <td>0.909075</td>\n",
       "      <td>0.811643</td>\n",
       "      <td>0.633006</td>\n",
       "      <td>1.788317</td>\n",
       "      <td>1.851940</td>\n",
       "    </tr>\n",
       "    <tr>\n",
       "      <th>1341</th>\n",
       "      <td>1.942706</td>\n",
       "      <td>1.789500</td>\n",
       "      <td>1.599985</td>\n",
       "      <td>1.575407</td>\n",
       "      <td>1.576433</td>\n",
       "      <td>1.577299</td>\n",
       "      <td>1.477784</td>\n",
       "      <td>1.473062</td>\n",
       "      <td>1.368993</td>\n",
       "      <td>0.675797</td>\n",
       "      <td>...</td>\n",
       "      <td>1.485872</td>\n",
       "      <td>1.567828</td>\n",
       "      <td>1.204076</td>\n",
       "      <td>1.250610</td>\n",
       "      <td>0.841473</td>\n",
       "      <td>0.521764</td>\n",
       "      <td>1.255367</td>\n",
       "      <td>1.168872</td>\n",
       "      <td>1.791181</td>\n",
       "      <td>1.855110</td>\n",
       "    </tr>\n",
       "    <tr>\n",
       "      <th>1342</th>\n",
       "      <td>1.732099</td>\n",
       "      <td>1.943949</td>\n",
       "      <td>1.790930</td>\n",
       "      <td>1.601517</td>\n",
       "      <td>1.576433</td>\n",
       "      <td>1.577299</td>\n",
       "      <td>1.578201</td>\n",
       "      <td>1.478834</td>\n",
       "      <td>1.573585</td>\n",
       "      <td>0.519237</td>\n",
       "      <td>...</td>\n",
       "      <td>1.557330</td>\n",
       "      <td>1.649106</td>\n",
       "      <td>1.406364</td>\n",
       "      <td>1.477660</td>\n",
       "      <td>0.297707</td>\n",
       "      <td>0.065522</td>\n",
       "      <td>0.527905</td>\n",
       "      <td>0.320633</td>\n",
       "      <td>1.794046</td>\n",
       "      <td>1.858280</td>\n",
       "    </tr>\n",
       "  </tbody>\n",
       "</table>\n",
       "<p>1343 rows × 212 columns</p>\n",
       "</div>"
      ],
      "text/plain": [
       "      Lag0Gold  Lag1Gold  Lag2Gold  Lag3Gold  Lag4Gold  Lag5Gold  Lag6Gold  \\\n",
       "0    -2.342917 -2.337728 -2.585561 -2.429316 -2.435208 -2.478414 -2.462343   \n",
       "1    -2.342917 -2.337728 -2.331815 -2.579815 -2.423256 -2.428862 -2.472096   \n",
       "2    -2.171958 -2.337728 -2.331815 -2.326324 -2.573566 -2.416926 -2.422609   \n",
       "3    -2.171958 -2.166926 -2.331815 -2.326324 -2.320393 -2.567030 -2.410689   \n",
       "4    -1.875143 -2.166926 -2.161199 -2.326324 -2.320393 -2.314203 -2.560593   \n",
       "...        ...       ...       ...       ...       ...       ...       ...   \n",
       "1338  1.570597  1.572182  1.573848  1.474591  1.469948  1.455407  1.336549   \n",
       "1339  1.596786  1.572182  1.573848  1.575407  1.475743  1.470960  1.456472   \n",
       "1340  1.788115  1.598348  1.573848  1.575407  1.576433  1.476747  1.472004   \n",
       "1341  1.942706  1.789500  1.599985  1.575407  1.576433  1.577299  1.477784   \n",
       "1342  1.732099  1.943949  1.790930  1.601517  1.576433  1.577299  1.578201   \n",
       "\n",
       "      Lag7Gold  Lag14Gold  Lag30Gold  ...  BollM_squared  BollM_cubed  \\\n",
       "0    -2.456081  -2.276817  -2.345114  ...      -2.362072    -2.234230   \n",
       "1    -2.456081  -2.276817  -2.527767  ...      -2.362072    -2.234230   \n",
       "2    -2.465821  -2.362302  -2.527767  ...      -2.342248    -2.217860   \n",
       "3    -2.416400  -2.378040  -2.527767  ...      -2.319768    -2.199250   \n",
       "4    -2.404496  -2.368025  -2.448096  ...      -2.289861    -2.174418   \n",
       "...        ...        ...        ...  ...            ...          ...   \n",
       "1338  1.680846   1.460201   0.620827  ...       1.264971     1.318824   \n",
       "1339  1.337786   1.512064   0.620827  ...       1.320445     1.381033   \n",
       "1340  1.457550   1.391527   0.620827  ...       1.396395     1.466556   \n",
       "1341  1.473062   1.368993   0.675797  ...       1.485872     1.567828   \n",
       "1342  1.478834   1.573585   0.519237  ...       1.557330     1.649106   \n",
       "\n",
       "      BollL_squared  BollL_cubed  BollW_squared  BollW_cubed  \\\n",
       "0         -2.232521    -2.125541      -0.687150    -0.498963   \n",
       "1         -2.232521    -2.125541      -0.687150    -0.498963   \n",
       "2         -2.252699    -2.142396      -0.550463    -0.447623   \n",
       "3         -2.246420    -2.137155      -0.485613    -0.419398   \n",
       "4         -2.307500    -2.187977      -0.033062    -0.167738   \n",
       "...             ...          ...            ...          ...   \n",
       "1338       0.831425     0.839979       1.665491     1.357068   \n",
       "1339       0.909107     0.924753       1.524482     1.203067   \n",
       "1340       1.034540     1.062557       1.243179     0.909075   \n",
       "1341       1.204076     1.250610       0.841473     0.521764   \n",
       "1342       1.406364     1.477660       0.297707     0.065522   \n",
       "\n",
       "      BollPerc_squared  BollPerc_cubed  DaysSince18Nov04_squared  \\\n",
       "0             1.593530        1.612968                 -1.666053   \n",
       "1             1.593530        1.612968                 -1.663761   \n",
       "2             2.944946        3.658671                 -1.661468   \n",
       "3             2.227096        2.520857                 -1.659175   \n",
       "4             3.456726        4.534856                 -1.656882   \n",
       "...                ...             ...                       ...   \n",
       "1338          0.421119        0.209660                  1.782591   \n",
       "1339          0.388122        0.176130                  1.785454   \n",
       "1340          0.811643        0.633006                  1.788317   \n",
       "1341          1.255367        1.168872                  1.791181   \n",
       "1342          0.527905        0.320633                  1.794046   \n",
       "\n",
       "      DaysSince18Nov04_cubed  \n",
       "0                  -1.603238  \n",
       "1                  -1.601208  \n",
       "2                  -1.599177  \n",
       "3                  -1.597145  \n",
       "4                  -1.595113  \n",
       "...                      ...  \n",
       "1338                1.845604  \n",
       "1339                1.848771  \n",
       "1340                1.851940  \n",
       "1341                1.855110  \n",
       "1342                1.858280  \n",
       "\n",
       "[1343 rows x 212 columns]"
      ]
     },
     "execution_count": 43,
     "metadata": {},
     "output_type": "execute_result"
    }
   ],
   "source": [
    "evaluation_X_scaled"
   ]
  },
  {
   "cell_type": "code",
   "execution_count": 44,
   "id": "87b4a778",
   "metadata": {},
   "outputs": [
    {
     "data": {
      "text/plain": [
       "5373     1497.7\n",
       "5374     1497.7\n",
       "5375     1504.7\n",
       "5376     1498.4\n",
       "5377    1513.25\n",
       "         ...   \n",
       "6711     2001.9\n",
       "6712     2001.9\n",
       "6713     2002.7\n",
       "6714     2008.2\n",
       "6715    2048.45\n",
       "Name: Lead7Gold, Length: 1343, dtype: object"
      ]
     },
     "execution_count": 44,
     "metadata": {},
     "output_type": "execute_result"
    }
   ],
   "source": [
    "evaluation_y_lead7"
   ]
  },
  {
   "cell_type": "code",
   "execution_count": 151,
   "id": "fca51c20",
   "metadata": {},
   "outputs": [],
   "source": [
    "final_dataset = {\n",
    "  'lead7' : (evaluation_X_scaled, evaluation_y_lead7),\n",
    "  'lead30' : (evaluation_X_scaled, evaluation_y_lead30),\n",
    "  'lead180' : (evaluation_X_scaled, evaluation_y_lead180),\n",
    "  'lead360' : (evaluation_X_scaled, evaluation_y_lead360),\n",
    "}\n",
    "\n",
    "def final_pred(dataset, target_model):\n",
    "  X_final = dataset[0]\n",
    "  y_test = dataset[1]\n",
    "  y_pred = target_model.predict(X_final)\n",
    "\n",
    "  # Calculate metrics\n",
    "  mse = mean_squared_error(y_test, y_pred)\n",
    "  r2 = r2_score(y_test, y_pred)\n",
    "  \n",
    "  # Calculate the number of observations and predictors\n",
    "  n = X_final.shape[0]  # number of observations\n",
    "  p = X_final.shape[1]  # number of predictors\n",
    "\n",
    "  # Calculate adjusted R-squared\n",
    "  adjusted_r2 = 1 - ((1 - r2) * (n - 1) / (n - p - 1))\n",
    "  \n",
    "  # Store results\n",
    "  return {'MSE': mse, 'R^2': r2, 'Adjusted R^2': adjusted_r2, 'y_predictions' : y_pred}\n"
   ]
  },
  {
   "cell_type": "code",
   "execution_count": 46,
   "id": "88ff7e89",
   "metadata": {},
   "outputs": [
    {
     "data": {
      "text/plain": [
       "{'MSE': 360522.10890519887,\n",
       " 'R^2': -18.2170218501698,\n",
       " 'Adjusted R^2': -21.822339223829974,\n",
       " 'y_predictions': array([ 936.11371399,  946.11353718, 1000.22139151, ..., 1425.11564356,\n",
       "        1451.57266346, 1434.49424778])}"
      ]
     },
     "execution_count": 46,
     "metadata": {},
     "output_type": "execute_result"
    }
   ],
   "source": [
    "final_pred(final_dataset['lead7'], lasso_lead_7_model)"
   ]
  },
  {
   "cell_type": "code",
   "execution_count": 47,
   "id": "36173ee2",
   "metadata": {},
   "outputs": [
    {
     "data": {
      "text/plain": [
       "{'MSE': 364329.02674709744,\n",
       " 'R^2': -18.701495880205645,\n",
       " 'Adjusted R^2': -22.3977057267575,\n",
       " 'y_predictions': array([ 936.11371399,  946.11353718, 1000.22139151, ..., 1425.11564356,\n",
       "        1451.57266346, 1434.49424778])}"
      ]
     },
     "execution_count": 47,
     "metadata": {},
     "output_type": "execute_result"
    }
   ],
   "source": [
    "final_pred(final_dataset['lead30'], lasso_lead_30_model)"
   ]
  },
  {
   "cell_type": "code",
   "execution_count": 48,
   "id": "0c13448a",
   "metadata": {},
   "outputs": [
    {
     "data": {
      "text/plain": [
       "{'MSE': 405673.03543839086,\n",
       " 'R^2': -36.683455467763714,\n",
       " 'Adjusted R^2': -43.75327189180434,\n",
       " 'y_predictions': array([ 936.11371399,  946.11353718, 1000.22139151, ..., 1425.11564356,\n",
       "        1451.57266346, 1434.49424778])}"
      ]
     },
     "execution_count": 48,
     "metadata": {},
     "output_type": "execute_result"
    }
   ],
   "source": [
    "final_pred(final_dataset['lead180'], lasso_lead_180_model)"
   ]
  },
  {
   "cell_type": "code",
   "execution_count": 49,
   "id": "c05f5e9f",
   "metadata": {},
   "outputs": [
    {
     "data": {
      "text/plain": [
       "{'MSE': 473621.88860919746,\n",
       " 'R^2': -39.89138925554326,\n",
       " 'Adjusted R^2': -47.56304812472482,\n",
       " 'y_predictions': array([ 936.11371399,  946.11353718, 1000.22139151, ..., 1425.11564356,\n",
       "        1451.57266346, 1434.49424778])}"
      ]
     },
     "execution_count": 49,
     "metadata": {},
     "output_type": "execute_result"
    }
   ],
   "source": [
    "final_pred(final_dataset['lead360'], lasso_lead_360_model)"
   ]
  },
  {
   "cell_type": "code",
   "execution_count": 50,
   "id": "503ddca5",
   "metadata": {},
   "outputs": [
    {
     "data": {
      "text/plain": [
       "{'MSE': 723113.6570947696,\n",
       " 'R^2': -37.54435166471422,\n",
       " 'Adjusted R^2': -44.77568135756326,\n",
       " 'y_predictions': array([1685.31688875, 1673.78002603, 1626.40794139, ..., 1422.38843752,\n",
       "        1522.71519186, 1628.43211867])}"
      ]
     },
     "execution_count": 50,
     "metadata": {},
     "output_type": "execute_result"
    }
   ],
   "source": [
    "final_pred(final_dataset['lead7'], ridge_lead_7_model)"
   ]
  },
  {
   "cell_type": "code",
   "execution_count": 51,
   "id": "3f9d8020",
   "metadata": {},
   "outputs": [
    {
     "data": {
      "text/plain": [
       "{'MSE': 718603.0213776618,\n",
       " 'R^2': -37.85925475546294,\n",
       " 'Adjusted R^2': -45.14966361224006,\n",
       " 'y_predictions': array([1685.31688875, 1673.78002603, 1626.40794139, ..., 1422.38843752,\n",
       "        1522.71519186, 1628.43211867])}"
      ]
     },
     "execution_count": 51,
     "metadata": {},
     "output_type": "execute_result"
    }
   ],
   "source": [
    "final_pred(final_dataset['lead30'], ridge_lead_30_model)"
   ]
  },
  {
   "cell_type": "code",
   "execution_count": 52,
   "id": "ad73f052",
   "metadata": {},
   "outputs": [
    {
     "data": {
      "text/plain": [
       "{'MSE': 696781.2438823453,\n",
       " 'R^2': -63.72484656575358,\n",
       " 'Adjusted R^2': -75.86791512499231,\n",
       " 'y_predictions': array([1685.31688875, 1673.78002603, 1626.40794139, ..., 1422.38843752,\n",
       "        1522.71519186, 1628.43211867])}"
      ]
     },
     "execution_count": 52,
     "metadata": {},
     "output_type": "execute_result"
    }
   ],
   "source": [
    "final_pred(final_dataset['lead180'], ridge_lead_180_model)"
   ]
  },
  {
   "cell_type": "code",
   "execution_count": 53,
   "id": "6a7efc0f",
   "metadata": {},
   "outputs": [
    {
     "data": {
      "text/plain": [
       "{'MSE': 716742.8921659768,\n",
       " 'R^2': -60.88187941602171,\n",
       " 'Adjusted R^2': -72.49157714716915,\n",
       " 'y_predictions': array([1685.31688875, 1673.78002603, 1626.40794139, ..., 1422.38843752,\n",
       "        1522.71519186, 1628.43211867])}"
      ]
     },
     "execution_count": 53,
     "metadata": {},
     "output_type": "execute_result"
    }
   ],
   "source": [
    "final_pred(final_dataset['lead360'], ridge_lead_360_model)"
   ]
  },
  {
   "cell_type": "code",
   "execution_count": 54,
   "id": "c3dcf85d",
   "metadata": {},
   "outputs": [
    {
     "name": "stdout",
     "output_type": "stream",
     "text": [
      "449127.77031001524 -22.939996916625013\n"
     ]
    }
   ],
   "source": [
    "# Input Test Data for Lead 7 Forward Selected\n",
    "final_x_lead7 = final_dataset['lead7'][0][for_mod_lead7.feature_names_in_]\n",
    "\n",
    "# Y predictions\n",
    "y_pred_for_7 = for_mod_lead7.predict(final_x_lead7)\n",
    "\n",
    "y_test_for_7 = final_dataset['lead7'][1]\n",
    "# Calculate metrics\n",
    "mse = mean_squared_error(y_test_for_7, y_pred_for_7)\n",
    "r2 = r2_score(y_test_for_7, y_pred_for_7)\n",
    "print(mse,r2)"
   ]
  },
  {
   "cell_type": "code",
   "execution_count": 55,
   "id": "6e1eb6f8",
   "metadata": {},
   "outputs": [
    {
     "name": "stdout",
     "output_type": "stream",
     "text": [
      "858616.290485229 -45.43062744878304\n"
     ]
    }
   ],
   "source": [
    "# Input Test Data for Lead 30 Forward Selected\n",
    "final_x_lead30 = final_dataset['lead30'][0][for_mod_lead30.feature_names_in_]\n",
    "\n",
    "# Y predictions\n",
    "y_pred_for_30 = for_mod_lead30.predict(final_x_lead30)\n",
    "y_test_for_30 = final_dataset['lead30'][1]\n",
    "\n",
    "# Calculate metrics\n",
    "mse = mean_squared_error(y_test_for_30, y_pred_for_30)\n",
    "r2 = r2_score(y_test_for_30, y_pred_for_30)\n",
    "print(mse,r2)"
   ]
  },
  {
   "cell_type": "code",
   "execution_count": 56,
   "id": "3671f420",
   "metadata": {},
   "outputs": [
    {
     "name": "stdout",
     "output_type": "stream",
     "text": [
      "797979.5702335483 -73.12528063785481\n"
     ]
    }
   ],
   "source": [
    "# Input Test Data for Lead 180 Forward Selected\n",
    "final_x_lead180 = final_dataset['lead180'][0][for_mod_lead180.feature_names_in_]\n",
    "\n",
    "# Y predictions\n",
    "y_pred_for_180 = for_mod_lead180.predict(final_x_lead180)\n",
    "y_test_for_180 = final_dataset['lead180'][1]\n",
    "\n",
    "# Calculate metrics\n",
    "mse = mean_squared_error(y_test_for_180, y_pred_for_180)\n",
    "r2 = r2_score(y_test_for_180, y_pred_for_180)\n",
    "print(mse,r2)"
   ]
  },
  {
   "cell_type": "code",
   "execution_count": 57,
   "id": "2f9fbd6d",
   "metadata": {},
   "outputs": [
    {
     "name": "stdout",
     "output_type": "stream",
     "text": [
      "620844.6053980296 -52.60224904529882\n"
     ]
    }
   ],
   "source": [
    "# Input Test Data for Lead 30 Forward Selected\n",
    "final_x_lead360 = final_dataset['lead360'][0][for_mod_lead360.feature_names_in_]\n",
    "\n",
    "# Y predictions\n",
    "y_pred_for_360 = for_mod_lead360.predict(final_x_lead360)\n",
    "y_test_for_360 = final_dataset['lead360'][1]\n",
    "\n",
    "# Calculate metrics\n",
    "mse = mean_squared_error(y_test_for_360, y_pred_for_360)\n",
    "r2 = r2_score(y_test_for_360, y_pred_for_360)\n",
    "print(mse,r2)"
   ]
  },
  {
   "cell_type": "code",
   "execution_count": null,
   "id": "771b5583",
   "metadata": {},
   "outputs": [],
   "source": []
  }
 ],
 "metadata": {
  "kernelspec": {
   "display_name": "Python 3 (ipykernel)",
   "language": "python",
   "name": "python3"
  },
  "language_info": {
   "codemirror_mode": {
    "name": "ipython",
    "version": 3
   },
   "file_extension": ".py",
   "mimetype": "text/x-python",
   "name": "python",
   "nbconvert_exporter": "python",
   "pygments_lexer": "ipython3",
   "version": "3.9.7"
  }
 },
 "nbformat": 4,
 "nbformat_minor": 5
}
